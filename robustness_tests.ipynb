{
 "cells": [
  {
   "cell_type": "code",
   "execution_count": 41,
   "id": "09b3fdf2-d4d2-4d9d-8175-300106676111",
   "metadata": {},
   "outputs": [],
   "source": [
    "import squidpy as sq\n",
    "import seaborn as sns\n",
    "import shout\n",
    "import pandas as pd\n",
    "from IPython.display import set_matplotlib_formats\n",
    "import random\n",
    "import scanpy as sc"
   ]
  },
  {
   "cell_type": "code",
   "execution_count": 2,
   "id": "0509f053-7568-43c2-8cba-2a0480b13a07",
   "metadata": {},
   "outputs": [],
   "source": [
    "mibitof = sq.datasets.mibitof()"
   ]
  },
  {
   "cell_type": "code",
   "execution_count": 3,
   "id": "bdd7381c-8d23-45c1-ab42-a039057adac5",
   "metadata": {},
   "outputs": [
    {
     "data": {
      "text/plain": [
       "AnnData object with n_obs × n_vars = 3309 × 36\n",
       "    obs: 'row_num', 'point', 'cell_id', 'X1', 'center_rowcoord', 'center_colcoord', 'cell_size', 'category', 'donor', 'Cluster', 'batch', 'library_id'\n",
       "    var: 'mean-0', 'std-0', 'mean-1', 'std-1', 'mean-2', 'std-2'\n",
       "    uns: 'Cluster_colors', 'batch_colors', 'neighbors', 'spatial', 'umap'\n",
       "    obsm: 'X_scanorama', 'X_umap', 'spatial'\n",
       "    obsp: 'connectivities', 'distances'"
      ]
     },
     "execution_count": 3,
     "metadata": {},
     "output_type": "execute_result"
    }
   ],
   "source": [
    "mibitof"
   ]
  },
  {
   "cell_type": "code",
   "execution_count": 30,
   "id": "42d2e3ba-061d-4bd9-9e4f-63e7a5006429",
   "metadata": {},
   "outputs": [],
   "source": [
    "mibitof_df=mibitof.to_df()"
   ]
  },
  {
   "cell_type": "code",
   "execution_count": 156,
   "id": "c7d8a065-ebb4-4b53-89cc-b5e21f3915d2",
   "metadata": {},
   "outputs": [],
   "source": [
    "indices=mibitof.to_df().index\n",
    "indices=indices.to_list()"
   ]
  },
  {
   "cell_type": "code",
   "execution_count": 34,
   "id": "bc419518-7457-4e8c-90ae-ccb0c7abe6c5",
   "metadata": {},
   "outputs": [
    {
     "data": {
      "text/plain": [
       "3309"
      ]
     },
     "execution_count": 34,
     "metadata": {},
     "output_type": "execute_result"
    }
   ],
   "source": [
    "len(indices)"
   ]
  },
  {
   "cell_type": "code",
   "execution_count": 37,
   "id": "9214f431-a0ec-4e3d-9385-5dc00e9c4b7b",
   "metadata": {},
   "outputs": [],
   "source": [
    "mibitof_df=mibitof_df.reset_index(drop=True)"
   ]
  },
  {
   "cell_type": "code",
   "execution_count": 38,
   "id": "c7c504f5-ee6e-4f52-9073-095f4c517770",
   "metadata": {},
   "outputs": [
    {
     "data": {
      "text/html": [
       "<div>\n",
       "<style scoped>\n",
       "    .dataframe tbody tr th:only-of-type {\n",
       "        vertical-align: middle;\n",
       "    }\n",
       "\n",
       "    .dataframe tbody tr th {\n",
       "        vertical-align: top;\n",
       "    }\n",
       "\n",
       "    .dataframe thead th {\n",
       "        text-align: right;\n",
       "    }\n",
       "</style>\n",
       "<table border=\"1\" class=\"dataframe\">\n",
       "  <thead>\n",
       "    <tr style=\"text-align: right;\">\n",
       "      <th></th>\n",
       "      <th>ASCT2</th>\n",
       "      <th>ATP5A</th>\n",
       "      <th>CD11c</th>\n",
       "      <th>CD14</th>\n",
       "      <th>CD3</th>\n",
       "      <th>CD31</th>\n",
       "      <th>CD36</th>\n",
       "      <th>CD39</th>\n",
       "      <th>CD4</th>\n",
       "      <th>CD45</th>\n",
       "      <th>...</th>\n",
       "      <th>NRF2p</th>\n",
       "      <th>NaKATPase</th>\n",
       "      <th>PD1</th>\n",
       "      <th>PKM2</th>\n",
       "      <th>S6p</th>\n",
       "      <th>SDHA</th>\n",
       "      <th>SMA</th>\n",
       "      <th>VDAC1</th>\n",
       "      <th>XBP1</th>\n",
       "      <th>vimentin</th>\n",
       "    </tr>\n",
       "  </thead>\n",
       "  <tbody>\n",
       "    <tr>\n",
       "      <th>0</th>\n",
       "      <td>-0.048445</td>\n",
       "      <td>0.137012</td>\n",
       "      <td>-0.086196</td>\n",
       "      <td>-0.080735</td>\n",
       "      <td>-0.113008</td>\n",
       "      <td>-0.078852</td>\n",
       "      <td>-0.046787</td>\n",
       "      <td>-0.141266</td>\n",
       "      <td>-0.085507</td>\n",
       "      <td>-0.248544</td>\n",
       "      <td>...</td>\n",
       "      <td>-0.054893</td>\n",
       "      <td>0.065361</td>\n",
       "      <td>-0.083144</td>\n",
       "      <td>-0.184737</td>\n",
       "      <td>-0.038722</td>\n",
       "      <td>0.093941</td>\n",
       "      <td>-0.322605</td>\n",
       "      <td>0.080074</td>\n",
       "      <td>-0.000947</td>\n",
       "      <td>-0.321359</td>\n",
       "    </tr>\n",
       "    <tr>\n",
       "      <th>1</th>\n",
       "      <td>-0.103411</td>\n",
       "      <td>0.106259</td>\n",
       "      <td>-0.077513</td>\n",
       "      <td>-0.067131</td>\n",
       "      <td>-0.108321</td>\n",
       "      <td>-0.072423</td>\n",
       "      <td>-0.047707</td>\n",
       "      <td>-0.083563</td>\n",
       "      <td>-0.113500</td>\n",
       "      <td>-0.208693</td>\n",
       "      <td>...</td>\n",
       "      <td>0.009360</td>\n",
       "      <td>0.025300</td>\n",
       "      <td>-0.081925</td>\n",
       "      <td>-0.240841</td>\n",
       "      <td>-0.033127</td>\n",
       "      <td>0.071607</td>\n",
       "      <td>-0.281874</td>\n",
       "      <td>0.034381</td>\n",
       "      <td>-0.027246</td>\n",
       "      <td>-0.269943</td>\n",
       "    </tr>\n",
       "    <tr>\n",
       "      <th>2</th>\n",
       "      <td>-0.058778</td>\n",
       "      <td>-0.183549</td>\n",
       "      <td>-0.057169</td>\n",
       "      <td>-0.252341</td>\n",
       "      <td>-0.074428</td>\n",
       "      <td>-0.043755</td>\n",
       "      <td>-0.053108</td>\n",
       "      <td>-0.119548</td>\n",
       "      <td>-0.157841</td>\n",
       "      <td>-0.049226</td>\n",
       "      <td>...</td>\n",
       "      <td>-0.135845</td>\n",
       "      <td>-0.155732</td>\n",
       "      <td>-0.066608</td>\n",
       "      <td>-0.133573</td>\n",
       "      <td>-0.206725</td>\n",
       "      <td>-0.176896</td>\n",
       "      <td>0.091195</td>\n",
       "      <td>-0.258185</td>\n",
       "      <td>-0.045451</td>\n",
       "      <td>-0.104695</td>\n",
       "    </tr>\n",
       "    <tr>\n",
       "      <th>3</th>\n",
       "      <td>-0.063266</td>\n",
       "      <td>-0.217120</td>\n",
       "      <td>-0.010480</td>\n",
       "      <td>-0.018193</td>\n",
       "      <td>-0.012152</td>\n",
       "      <td>-0.066393</td>\n",
       "      <td>-0.016208</td>\n",
       "      <td>-0.110662</td>\n",
       "      <td>-0.012966</td>\n",
       "      <td>0.106709</td>\n",
       "      <td>...</td>\n",
       "      <td>-0.156271</td>\n",
       "      <td>-0.121936</td>\n",
       "      <td>-0.065462</td>\n",
       "      <td>0.053975</td>\n",
       "      <td>-0.090116</td>\n",
       "      <td>-0.172565</td>\n",
       "      <td>0.086739</td>\n",
       "      <td>-0.233419</td>\n",
       "      <td>-0.040213</td>\n",
       "      <td>0.028672</td>\n",
       "    </tr>\n",
       "    <tr>\n",
       "      <th>4</th>\n",
       "      <td>-0.195802</td>\n",
       "      <td>0.225289</td>\n",
       "      <td>-0.038972</td>\n",
       "      <td>-0.017998</td>\n",
       "      <td>-0.078372</td>\n",
       "      <td>-0.053338</td>\n",
       "      <td>-0.055921</td>\n",
       "      <td>-0.064804</td>\n",
       "      <td>-0.047809</td>\n",
       "      <td>0.046930</td>\n",
       "      <td>...</td>\n",
       "      <td>0.029879</td>\n",
       "      <td>-0.219233</td>\n",
       "      <td>-0.077997</td>\n",
       "      <td>-0.154873</td>\n",
       "      <td>-0.078090</td>\n",
       "      <td>0.092791</td>\n",
       "      <td>0.106398</td>\n",
       "      <td>-0.155387</td>\n",
       "      <td>-0.040580</td>\n",
       "      <td>0.011732</td>\n",
       "    </tr>\n",
       "    <tr>\n",
       "      <th>...</th>\n",
       "      <td>...</td>\n",
       "      <td>...</td>\n",
       "      <td>...</td>\n",
       "      <td>...</td>\n",
       "      <td>...</td>\n",
       "      <td>...</td>\n",
       "      <td>...</td>\n",
       "      <td>...</td>\n",
       "      <td>...</td>\n",
       "      <td>...</td>\n",
       "      <td>...</td>\n",
       "      <td>...</td>\n",
       "      <td>...</td>\n",
       "      <td>...</td>\n",
       "      <td>...</td>\n",
       "      <td>...</td>\n",
       "      <td>...</td>\n",
       "      <td>...</td>\n",
       "      <td>...</td>\n",
       "      <td>...</td>\n",
       "      <td>...</td>\n",
       "    </tr>\n",
       "    <tr>\n",
       "      <th>3304</th>\n",
       "      <td>0.021182</td>\n",
       "      <td>0.045632</td>\n",
       "      <td>-0.122180</td>\n",
       "      <td>-0.159719</td>\n",
       "      <td>-0.107684</td>\n",
       "      <td>0.165514</td>\n",
       "      <td>-0.070085</td>\n",
       "      <td>-0.132370</td>\n",
       "      <td>-0.135155</td>\n",
       "      <td>-0.189867</td>\n",
       "      <td>...</td>\n",
       "      <td>0.067894</td>\n",
       "      <td>-0.108838</td>\n",
       "      <td>-0.106829</td>\n",
       "      <td>-0.059154</td>\n",
       "      <td>0.036202</td>\n",
       "      <td>-0.091055</td>\n",
       "      <td>0.239040</td>\n",
       "      <td>0.084519</td>\n",
       "      <td>0.175693</td>\n",
       "      <td>0.180371</td>\n",
       "    </tr>\n",
       "    <tr>\n",
       "      <th>3305</th>\n",
       "      <td>-0.132899</td>\n",
       "      <td>-0.285047</td>\n",
       "      <td>-0.028203</td>\n",
       "      <td>0.133393</td>\n",
       "      <td>-0.082585</td>\n",
       "      <td>-0.069386</td>\n",
       "      <td>-0.066176</td>\n",
       "      <td>-0.132192</td>\n",
       "      <td>-0.039072</td>\n",
       "      <td>0.073765</td>\n",
       "      <td>...</td>\n",
       "      <td>-0.234625</td>\n",
       "      <td>-0.225610</td>\n",
       "      <td>-0.094546</td>\n",
       "      <td>0.039629</td>\n",
       "      <td>-0.146379</td>\n",
       "      <td>-0.172444</td>\n",
       "      <td>0.174762</td>\n",
       "      <td>-0.155889</td>\n",
       "      <td>0.153453</td>\n",
       "      <td>0.012337</td>\n",
       "    </tr>\n",
       "    <tr>\n",
       "      <th>3306</th>\n",
       "      <td>-0.145032</td>\n",
       "      <td>-0.038225</td>\n",
       "      <td>0.079962</td>\n",
       "      <td>0.143460</td>\n",
       "      <td>-0.112061</td>\n",
       "      <td>-0.083390</td>\n",
       "      <td>-0.069760</td>\n",
       "      <td>0.272488</td>\n",
       "      <td>0.175698</td>\n",
       "      <td>0.181223</td>\n",
       "      <td>...</td>\n",
       "      <td>0.022217</td>\n",
       "      <td>-0.091115</td>\n",
       "      <td>-0.102767</td>\n",
       "      <td>0.153053</td>\n",
       "      <td>0.181595</td>\n",
       "      <td>-0.008561</td>\n",
       "      <td>-0.027603</td>\n",
       "      <td>-0.293268</td>\n",
       "      <td>-0.255045</td>\n",
       "      <td>0.253582</td>\n",
       "    </tr>\n",
       "    <tr>\n",
       "      <th>3307</th>\n",
       "      <td>-0.110586</td>\n",
       "      <td>-0.288419</td>\n",
       "      <td>-0.096880</td>\n",
       "      <td>0.083653</td>\n",
       "      <td>-0.094524</td>\n",
       "      <td>-0.061432</td>\n",
       "      <td>-0.060936</td>\n",
       "      <td>-0.264610</td>\n",
       "      <td>-0.170266</td>\n",
       "      <td>0.018944</td>\n",
       "      <td>...</td>\n",
       "      <td>-0.049546</td>\n",
       "      <td>-0.020856</td>\n",
       "      <td>-0.089480</td>\n",
       "      <td>-0.041875</td>\n",
       "      <td>-0.087478</td>\n",
       "      <td>-0.175069</td>\n",
       "      <td>0.079871</td>\n",
       "      <td>-0.381522</td>\n",
       "      <td>-0.116259</td>\n",
       "      <td>0.080427</td>\n",
       "    </tr>\n",
       "    <tr>\n",
       "      <th>3308</th>\n",
       "      <td>-0.094266</td>\n",
       "      <td>-0.198548</td>\n",
       "      <td>-0.063249</td>\n",
       "      <td>-0.160422</td>\n",
       "      <td>-0.056381</td>\n",
       "      <td>-0.039209</td>\n",
       "      <td>-0.048076</td>\n",
       "      <td>-0.226687</td>\n",
       "      <td>-0.196662</td>\n",
       "      <td>-0.064409</td>\n",
       "      <td>...</td>\n",
       "      <td>-0.151842</td>\n",
       "      <td>-0.205693</td>\n",
       "      <td>-0.057455</td>\n",
       "      <td>-0.012602</td>\n",
       "      <td>-0.081220</td>\n",
       "      <td>-0.205746</td>\n",
       "      <td>0.164505</td>\n",
       "      <td>-0.353435</td>\n",
       "      <td>-0.025183</td>\n",
       "      <td>-0.055012</td>\n",
       "    </tr>\n",
       "  </tbody>\n",
       "</table>\n",
       "<p>3309 rows × 36 columns</p>\n",
       "</div>"
      ],
      "text/plain": [
       "         ASCT2     ATP5A     CD11c      CD14       CD3      CD31      CD36   \n",
       "0    -0.048445  0.137012 -0.086196 -0.080735 -0.113008 -0.078852 -0.046787  \\\n",
       "1    -0.103411  0.106259 -0.077513 -0.067131 -0.108321 -0.072423 -0.047707   \n",
       "2    -0.058778 -0.183549 -0.057169 -0.252341 -0.074428 -0.043755 -0.053108   \n",
       "3    -0.063266 -0.217120 -0.010480 -0.018193 -0.012152 -0.066393 -0.016208   \n",
       "4    -0.195802  0.225289 -0.038972 -0.017998 -0.078372 -0.053338 -0.055921   \n",
       "...        ...       ...       ...       ...       ...       ...       ...   \n",
       "3304  0.021182  0.045632 -0.122180 -0.159719 -0.107684  0.165514 -0.070085   \n",
       "3305 -0.132899 -0.285047 -0.028203  0.133393 -0.082585 -0.069386 -0.066176   \n",
       "3306 -0.145032 -0.038225  0.079962  0.143460 -0.112061 -0.083390 -0.069760   \n",
       "3307 -0.110586 -0.288419 -0.096880  0.083653 -0.094524 -0.061432 -0.060936   \n",
       "3308 -0.094266 -0.198548 -0.063249 -0.160422 -0.056381 -0.039209 -0.048076   \n",
       "\n",
       "          CD39       CD4      CD45  ...     NRF2p  NaKATPase       PD1   \n",
       "0    -0.141266 -0.085507 -0.248544  ... -0.054893   0.065361 -0.083144  \\\n",
       "1    -0.083563 -0.113500 -0.208693  ...  0.009360   0.025300 -0.081925   \n",
       "2    -0.119548 -0.157841 -0.049226  ... -0.135845  -0.155732 -0.066608   \n",
       "3    -0.110662 -0.012966  0.106709  ... -0.156271  -0.121936 -0.065462   \n",
       "4    -0.064804 -0.047809  0.046930  ...  0.029879  -0.219233 -0.077997   \n",
       "...        ...       ...       ...  ...       ...        ...       ...   \n",
       "3304 -0.132370 -0.135155 -0.189867  ...  0.067894  -0.108838 -0.106829   \n",
       "3305 -0.132192 -0.039072  0.073765  ... -0.234625  -0.225610 -0.094546   \n",
       "3306  0.272488  0.175698  0.181223  ...  0.022217  -0.091115 -0.102767   \n",
       "3307 -0.264610 -0.170266  0.018944  ... -0.049546  -0.020856 -0.089480   \n",
       "3308 -0.226687 -0.196662 -0.064409  ... -0.151842  -0.205693 -0.057455   \n",
       "\n",
       "          PKM2       S6p      SDHA       SMA     VDAC1      XBP1  vimentin  \n",
       "0    -0.184737 -0.038722  0.093941 -0.322605  0.080074 -0.000947 -0.321359  \n",
       "1    -0.240841 -0.033127  0.071607 -0.281874  0.034381 -0.027246 -0.269943  \n",
       "2    -0.133573 -0.206725 -0.176896  0.091195 -0.258185 -0.045451 -0.104695  \n",
       "3     0.053975 -0.090116 -0.172565  0.086739 -0.233419 -0.040213  0.028672  \n",
       "4    -0.154873 -0.078090  0.092791  0.106398 -0.155387 -0.040580  0.011732  \n",
       "...        ...       ...       ...       ...       ...       ...       ...  \n",
       "3304 -0.059154  0.036202 -0.091055  0.239040  0.084519  0.175693  0.180371  \n",
       "3305  0.039629 -0.146379 -0.172444  0.174762 -0.155889  0.153453  0.012337  \n",
       "3306  0.153053  0.181595 -0.008561 -0.027603 -0.293268 -0.255045  0.253582  \n",
       "3307 -0.041875 -0.087478 -0.175069  0.079871 -0.381522 -0.116259  0.080427  \n",
       "3308 -0.012602 -0.081220 -0.205746  0.164505 -0.353435 -0.025183 -0.055012  \n",
       "\n",
       "[3309 rows x 36 columns]"
      ]
     },
     "execution_count": 38,
     "metadata": {},
     "output_type": "execute_result"
    }
   ],
   "source": [
    "mibitof_df"
   ]
  },
  {
   "cell_type": "markdown",
   "id": "4312e5f6-fb24-46cd-a134-5c0cf962f6f1",
   "metadata": {},
   "source": [
    "AnnData object with n_obs × n_vars = 3309 × 36\n",
    "    obs: 'row_num', 'point', 'cell_id', 'X1', 'center_rowcoord', 'center_colcoord', 'cell_size', 'category', 'donor', 'Cluster', 'batch', 'library_id'\n",
    "    var: 'mean-0', 'std-0', 'mean-1', 'std-1', 'mean-2', 'std-2'\n",
    "    uns: 'Cluster_colors', 'batch_colors', 'neighbors', 'spatial', 'umap'\n",
    "    obsm: 'X_scanorama', 'X_umap', 'spatial'\n",
    "    obsp: 'connectivities', 'distances'"
   ]
  },
  {
   "cell_type": "code",
   "execution_count": 139,
   "id": "324d912e-cd7b-497c-a990-5a94f41e833b",
   "metadata": {},
   "outputs": [
    {
     "name": "stdout",
     "output_type": "stream",
     "text": [
      "Iteration 1, i= 50\n"
     ]
    },
    {
     "name": "stderr",
     "output_type": "stream",
     "text": [
      "/Users/surya/anaconda3/envs/spatial_proteomics_cloned_xai/lib/python3.10/site-packages/anndata/_core/anndata.py:121: ImplicitModificationWarning: Transforming to str index.\n",
      "  warnings.warn(\"Transforming to str index.\", ImplicitModificationWarning)\n"
     ]
    },
    {
     "name": "stdout",
     "output_type": "stream",
     "text": [
      "Iteration 1, i= 100\n"
     ]
    },
    {
     "name": "stderr",
     "output_type": "stream",
     "text": [
      "/Users/surya/anaconda3/envs/spatial_proteomics_cloned_xai/lib/python3.10/site-packages/anndata/_core/anndata.py:121: ImplicitModificationWarning: Transforming to str index.\n",
      "  warnings.warn(\"Transforming to str index.\", ImplicitModificationWarning)\n"
     ]
    },
    {
     "name": "stdout",
     "output_type": "stream",
     "text": [
      "Iteration 1, i= 150\n"
     ]
    },
    {
     "name": "stderr",
     "output_type": "stream",
     "text": [
      "/Users/surya/anaconda3/envs/spatial_proteomics_cloned_xai/lib/python3.10/site-packages/anndata/_core/anndata.py:121: ImplicitModificationWarning: Transforming to str index.\n",
      "  warnings.warn(\"Transforming to str index.\", ImplicitModificationWarning)\n"
     ]
    },
    {
     "name": "stdout",
     "output_type": "stream",
     "text": [
      "Iteration 2, i= 50\n",
      "Iteration 2, i= 100\n"
     ]
    },
    {
     "name": "stderr",
     "output_type": "stream",
     "text": [
      "/Users/surya/anaconda3/envs/spatial_proteomics_cloned_xai/lib/python3.10/site-packages/anndata/_core/anndata.py:121: ImplicitModificationWarning: Transforming to str index.\n",
      "  warnings.warn(\"Transforming to str index.\", ImplicitModificationWarning)\n",
      "/Users/surya/anaconda3/envs/spatial_proteomics_cloned_xai/lib/python3.10/site-packages/anndata/_core/anndata.py:121: ImplicitModificationWarning: Transforming to str index.\n",
      "  warnings.warn(\"Transforming to str index.\", ImplicitModificationWarning)\n"
     ]
    },
    {
     "name": "stdout",
     "output_type": "stream",
     "text": [
      "Iteration 2, i= 150\n"
     ]
    },
    {
     "name": "stderr",
     "output_type": "stream",
     "text": [
      "/Users/surya/anaconda3/envs/spatial_proteomics_cloned_xai/lib/python3.10/site-packages/anndata/_core/anndata.py:121: ImplicitModificationWarning: Transforming to str index.\n",
      "  warnings.warn(\"Transforming to str index.\", ImplicitModificationWarning)\n"
     ]
    },
    {
     "name": "stdout",
     "output_type": "stream",
     "text": [
      "Iteration 3, i= 50\n",
      "Iteration 3, i= 100\n"
     ]
    },
    {
     "name": "stderr",
     "output_type": "stream",
     "text": [
      "/Users/surya/anaconda3/envs/spatial_proteomics_cloned_xai/lib/python3.10/site-packages/anndata/_core/anndata.py:121: ImplicitModificationWarning: Transforming to str index.\n",
      "  warnings.warn(\"Transforming to str index.\", ImplicitModificationWarning)\n",
      "/Users/surya/anaconda3/envs/spatial_proteomics_cloned_xai/lib/python3.10/site-packages/anndata/_core/anndata.py:121: ImplicitModificationWarning: Transforming to str index.\n",
      "  warnings.warn(\"Transforming to str index.\", ImplicitModificationWarning)\n"
     ]
    },
    {
     "name": "stdout",
     "output_type": "stream",
     "text": [
      "Iteration 3, i= 150\n"
     ]
    },
    {
     "name": "stderr",
     "output_type": "stream",
     "text": [
      "/Users/surya/anaconda3/envs/spatial_proteomics_cloned_xai/lib/python3.10/site-packages/anndata/_core/anndata.py:121: ImplicitModificationWarning: Transforming to str index.\n",
      "  warnings.warn(\"Transforming to str index.\", ImplicitModificationWarning)\n"
     ]
    }
   ],
   "source": [
    "# --- Imports: ---\n",
    "import time\n",
    "# ---- Code: ----\n",
    "shout_scores={}\n",
    "# n=[50, 100, 150, 200, 250, 300, 350, 400, 450, 500, 1000, 2000, 3000]\n",
    "n=[50, 100, 150]\n",
    "cluster_key='Cluster'\n",
    "indices_range=range(len(indices))\n",
    "\n",
    "for _count_ in range (3):\n",
    "    count=0\n",
    "    for i in n:\n",
    "        print('Iteration '+str(_count_+1)+', i= '+str(i))\n",
    "        # ---\n",
    "        rs=random.sample(indices_range, i)\n",
    "        # print(mibitof_df.loc[rs])\n",
    "        mibitof_rand=sc.AnnData(mibitof_df.iloc[rs])\n",
    "        # ---\n",
    "        _mibitof_obs_df_=pd.DataFrame(mibitof.obs)\n",
    "        for j in mibitof.obs.columns:\n",
    "            mibitof_obs_df=_mibitof_obs_df_[j].iloc[rs]\n",
    "            mibitof_rand.obs[j]=np.array(mibitof_obs_df)\n",
    "        # ---\n",
    "        mibitof_rand.var=mibitof.var\n",
    "        # ---\n",
    "        mibitof_rand.uns=mibitof.uns\n",
    "        # ---\n",
    "        _mibitof_obsm_df_=pd.DataFrame(mibitof.obsm)\n",
    "        for j in mibitof.obsm:\n",
    "            mibitof_obsm_df=pd.DataFrame(mibitof.obsm[j]).iloc[rs]\n",
    "            mibitof_rand.obsm[j]=np.array(mibitof_obsm_df)\n",
    "        # ---\n",
    "        # _mibitof_obsp_df_=pd.DataFrame(mibitof.obsp)\n",
    "        # for j in mibitof.obsp:\n",
    "            # mibitof_obsp_df=pd.DataFrame(mibitof.obsp[j]).iloc[rs]\n",
    "            # mibitof_rand.obsp[j]=np.array(mibitof_obsp_df)\n",
    "        # ---\n",
    "        scores_mibitof = shout.all_scores(mibitof_rand, cluster_key, radius=2)\n",
    "        # end = time.time()\n",
    "        try:\n",
    "            shout_scores[i].append(scores_mibitof)\n",
    "        except:\n",
    "            shout_scores[i]=[]\n",
    "            shout_scores[i].append(scores_mibitof)"
   ]
  },
  {
   "cell_type": "code",
   "execution_count": 127,
   "id": "0a16a98c-94bb-4b1e-9dec-5ab1a3b2c253",
   "metadata": {},
   "outputs": [
    {
     "data": {
      "text/plain": [
       "{50: [None, None, None], 100: [None, None, None], 150: [None, None, None]}"
      ]
     },
     "execution_count": 127,
     "metadata": {},
     "output_type": "execute_result"
    }
   ],
   "source": [
    "shout_scores"
   ]
  },
  {
   "cell_type": "code",
   "execution_count": 128,
   "id": "3e36e15b-13d7-4371-ba48-b425918e6519",
   "metadata": {},
   "outputs": [],
   "source": [
    "shout.all_scores(mibitof_rand, cluster_key='Cluster', radius=2)"
   ]
  },
  {
   "cell_type": "code",
   "execution_count": 129,
   "id": "4a42f90e-9a87-4138-b9d4-ac21266a429c",
   "metadata": {},
   "outputs": [
    {
     "data": {
      "text/plain": [
       "AnnData object with n_obs × n_vars = 150 × 36\n",
       "    obs: 'row_num', 'point', 'cell_id', 'X1', 'center_rowcoord', 'center_colcoord', 'cell_size', 'category', 'donor', 'Cluster', 'batch', 'library_id', 'local_entropy_2', 'local_homophily_2', 'egophily_2'\n",
       "    var: 'mean-0', 'std-0', 'mean-1', 'std-1', 'mean-2', 'std-2'\n",
       "    uns: 'Cluster_colors', 'batch_colors', 'neighbors', 'spatial', 'umap', 'global_entropy', 'global_homophily'\n",
       "    obsm: 'X_scanorama', 'X_umap', 'spatial'"
      ]
     },
     "execution_count": 129,
     "metadata": {},
     "output_type": "execute_result"
    }
   ],
   "source": [
    "mibitof_rand"
   ]
  },
  {
   "cell_type": "code",
   "execution_count": 172,
   "id": "a06cd990-6ce5-4ffa-b398-ebc105819a98",
   "metadata": {},
   "outputs": [],
   "source": [
    "local_entropy_2={}\n",
    "count=-1\n",
    "scores=[i for i in pd.DataFrame(mibitof_rand.obs['local_entropy_2']).to_dict()['local_entropy_2'].values()]\n",
    "celltypes=[i for i in pd.DataFrame(mibitof_rand.obs[cluster_key]).to_dict()[cluster_key].values()]\n",
    "\n",
    "count=-1\n",
    "for i in celltypes:\n",
    "    count+=1\n",
    "    try:\n",
    "        local_entropy_2[i].append(scores[count])\n",
    "    except:\n",
    "        local_entropy_2[i]=[]\n",
    "        local_entropy_2[i].append(scores[count])\n",
    "        "
   ]
  },
  {
   "cell_type": "code",
   "execution_count": 173,
   "id": "49a66eb7-c45b-4975-8c39-f56bc76d172b",
   "metadata": {},
   "outputs": [
    {
     "data": {
      "text/plain": [
       "{'Fibroblast': [0.8311803634512183,\n",
       "  0.8278195311147832,\n",
       "  0.8701924144438808,\n",
       "  0.9202222757438662,\n",
       "  0.8326925155412138,\n",
       "  0.7945310730498214,\n",
       "  0.7840723338208275,\n",
       "  0.8622731037219674,\n",
       "  0.8045304344395722,\n",
       "  0.9465918465485027,\n",
       "  0.6991772419328298,\n",
       "  0.8075265872808305,\n",
       "  0.8018796874098556,\n",
       "  0.9240618201705576,\n",
       "  0.8345672320191161,\n",
       "  0.8348978069430468,\n",
       "  0.8249639059499646,\n",
       "  0.6583125004006424,\n",
       "  0.8134079763139508],\n",
       " 'Epithelial': [0.7994259655786021,\n",
       "  0.8654479953199968,\n",
       "  0.49888025406228603,\n",
       "  0.7427237314469578,\n",
       "  0.7189265498156798,\n",
       "  0.7625945733136903,\n",
       "  0.7103924194125386,\n",
       "  0.8593958348795886,\n",
       "  0.7274095729712671,\n",
       "  0.8170466374027375,\n",
       "  0.7514825263240316,\n",
       "  0.7463659726629288,\n",
       "  0.708871490603394,\n",
       "  0.8075265872808307,\n",
       "  0.7256360563895261,\n",
       "  0.671044155056913,\n",
       "  0.7135354866336909,\n",
       "  0.7711532500572749,\n",
       "  0.6430309884992668,\n",
       "  0.8416483250282373,\n",
       "  0.7809125495378889,\n",
       "  0.8052204900639212,\n",
       "  0.7929973289666877,\n",
       "  0.681370139249467,\n",
       "  0.7078262241899623,\n",
       "  0.719239156376716,\n",
       "  0.7866021013070336,\n",
       "  0.781255807455557,\n",
       "  0.7814994838533879,\n",
       "  0.702611070274871,\n",
       "  0.7810859577814225],\n",
       " 'Tcell_CD4': [0.6879550406502847,\n",
       "  0.8695649898542807,\n",
       "  0.7718892921256691,\n",
       "  0.8347171654595357,\n",
       "  0.8937587898675271,\n",
       "  0.8569835314848895,\n",
       "  0.8216898206052793,\n",
       "  0.8219857736497249,\n",
       "  0.7025855388402041,\n",
       "  0.850944053893068,\n",
       "  0.800352774164792,\n",
       "  0.8832648206811903,\n",
       "  0.8116351445217904,\n",
       "  0.8805347226228645,\n",
       "  0.8439564189917249,\n",
       "  0.8207831883392566,\n",
       "  0.8123552771730077,\n",
       "  0.8066941544250451,\n",
       "  0.6308386485410926,\n",
       "  0.8341993560824205,\n",
       "  0.5685290872327534,\n",
       "  0.8612056584657443,\n",
       "  0.7793403204085371,\n",
       "  0.779857420662241,\n",
       "  0.7919598817169379,\n",
       "  0.7959036900061346,\n",
       "  0.7298471724463796,\n",
       "  0.7690628587208895,\n",
       "  0.8647059638770619],\n",
       " 'Myeloid_CD68': [0.6226551194132369,\n",
       "  0.860337800525862,\n",
       "  0.8022221055802298,\n",
       "  0.8348978069430468,\n",
       "  0.702611070274871,\n",
       "  0.8257390004874942,\n",
       "  0.83371697772095,\n",
       "  0.7842485936239566,\n",
       "  0.86292639519725,\n",
       "  0.618854920710318,\n",
       "  0.8762045806353247,\n",
       "  0.736629546004909,\n",
       "  0.8481771013829448,\n",
       "  0.8411873186856712,\n",
       "  0.8341993560824205,\n",
       "  0.8592324273499687,\n",
       "  0.8139745068670331,\n",
       "  0.859273177038261,\n",
       "  0.8544808559013853],\n",
       " 'Imm_other': [0.7842485936239566,\n",
       "  0.8805347226228645,\n",
       "  0.7522168043752706,\n",
       "  0.7987468750600963,\n",
       "  0.6070106527112737,\n",
       "  0.8176065103715944,\n",
       "  0.7013033034274548,\n",
       "  0.8995534868003716,\n",
       "  0.8045998548685601,\n",
       "  0.6403932306491659,\n",
       "  0.9066547682474638,\n",
       "  0.8742594492947554,\n",
       "  0.6403932306491659,\n",
       "  0.7879550406502847,\n",
       "  0.7115342320851945,\n",
       "  0.7360655307590291,\n",
       "  0.8120927081530444,\n",
       "  0.7332292649104427,\n",
       "  0.875,\n",
       "  0.5832121859069609,\n",
       "  0.598245572601161,\n",
       "  0.8679005653524494,\n",
       "  0.8050469046251808,\n",
       "  0.8160276897625957],\n",
       " 'Tcell_CD8': [0.7618668463207694,\n",
       "  0.8129146401339158,\n",
       "  0.8331814352027106,\n",
       "  0.8578524207583952,\n",
       "  0.7662842420527269,\n",
       "  0.7776381879931327,\n",
       "  0.8682691545009562,\n",
       "  0.5786803892199742,\n",
       "  0.7737091577790624,\n",
       "  0.848666399042714,\n",
       "  0.8700211802923575,\n",
       "  0.7306686118307023,\n",
       "  0.9070839453348222,\n",
       "  0.8712202298960622,\n",
       "  0.8544808559013853,\n",
       "  0.859273177038261,\n",
       "  0.7936839864962035,\n",
       "  0.7625945733136903,\n",
       "  0.8569835314848895],\n",
       " 'Myeloid_CD11c': [0.8700211802923575,\n",
       "  0.8622959469986046,\n",
       "  0.86292639519725,\n",
       "  0.8024766742935392,\n",
       "  0.8612056584657443,\n",
       "  0.8366854867855132,\n",
       "  0.7978607699060097],\n",
       " 'Endothelial': [0.7270685557782173, 0.8474942312699092]}"
      ]
     },
     "execution_count": 173,
     "metadata": {},
     "output_type": "execute_result"
    }
   ],
   "source": [
    "local_entropy_2"
   ]
  },
  {
   "cell_type": "code",
   "execution_count": 131,
   "id": "2f8b6d8b-1b95-4351-85cd-7ae2d4fe17a9",
   "metadata": {},
   "outputs": [],
   "source": [
    "a=shout.all_scores(mibitof_rand, cluster_key='Cluster', radius=2)"
   ]
  },
  {
   "cell_type": "code",
   "execution_count": 154,
   "id": "28319d00-23c2-42df-b9b8-00fe47a0eb84",
   "metadata": {},
   "outputs": [
    {
     "data": {
      "text/plain": [
       "array(dict_values([0.8311803634512183, 0.7994259655786021, 0.8654479953199968, 0.6879550406502847, 0.49888025406228603, 0.6226551194132369, 0.8278195311147832, 0.8695649898542807, 0.7427237314469578, 0.7189265498156798, 0.7718892921256691, 0.8701924144438808, 0.7842485936239566, 0.8347171654595357, 0.8937587898675271, 0.7618668463207694, 0.8700211802923575, 0.7625945733136903, 0.8569835314848895, 0.9202222757438662, 0.860337800525862, 0.8216898206052793, 0.8129146401339158, 0.7103924194125386, 0.8805347226228645, 0.8331814352027106, 0.8593958348795886, 0.8326925155412138, 0.7522168043752706, 0.7274095729712671, 0.7987468750600963, 0.8170466374027375, 0.7945310730498214, 0.8219857736497249, 0.8022221055802298, 0.7514825263240316, 0.6070106527112737, 0.7025855388402041, 0.8622959469986046, 0.86292639519725, 0.8024766742935392, 0.850944053893068, 0.8176065103715944, 0.800352774164792, 0.7013033034274548, 0.8832648206811903, 0.7463659726629288, 0.8995534868003716, 0.708871490603394, 0.8348978069430468, 0.8116351445217904, 0.8578524207583952, 0.702611070274871, 0.8075265872808307, 0.8257390004874942, 0.7256360563895261, 0.7270685557782173, 0.8805347226228645, 0.8045998548685601, 0.7840723338208275, 0.83371697772095, 0.8439564189917249, 0.8622731037219674, 0.671044155056913, 0.7842485936239566, 0.7662842420527269, 0.8045304344395722, 0.7135354866336909, 0.86292639519725, 0.7776381879931327, 0.6403932306491659, 0.8682691545009562, 0.5786803892199742, 0.9465918465485027, 0.7737091577790624, 0.7711532500572749, 0.618854920710318, 0.8762045806353247, 0.6430309884992668, 0.8474942312699092, 0.848666399042714, 0.736629546004909, 0.8207831883392566, 0.6991772419328298, 0.9066547682474638, 0.8742594492947554, 0.8416483250282373, 0.8075265872808305, 0.8018796874098556, 0.7809125495378889, 0.8700211802923575, 0.6403932306491659, 0.8481771013829448, 0.9240618201705576, 0.7879550406502847, 0.8123552771730077, 0.7115342320851945, 0.8612056584657443, 0.8411873186856712, 0.8341993560824205, 0.7306686118307023, 0.8592324273499687, 0.8139745068670331, 0.9070839453348222, 0.7360655307590291, 0.8066941544250451, 0.8052204900639212, 0.8366854867855132, 0.6308386485410926, 0.8712202298960622, 0.7929973289666877, 0.681370139249467, 0.859273177038261, 0.8341993560824205, 0.8120927081530444, 0.5685290872327534, 0.8345672320191161, 0.8612056584657443, 0.7078262241899623, 0.719239156376716, 0.7793403204085371, 0.7866021013070336, 0.781255807455557, 0.779857420662241, 0.7332292649104427, 0.8348978069430468, 0.875, 0.7919598817169379, 0.8544808559013853, 0.8249639059499646, 0.6583125004006424, 0.7814994838533879, 0.7978607699060097, 0.702611070274871, 0.5832121859069609, 0.7959036900061346, 0.7298471724463796, 0.598245572601161, 0.8679005653524494, 0.8050469046251808, 0.859273177038261, 0.8160276897625957, 0.8544808559013853, 0.7936839864962035, 0.7810859577814225, 0.7625945733136903, 0.8134079763139508, 0.7690628587208895, 0.8647059638770619, 0.8569835314848895]),\n",
       "      dtype=object)"
      ]
     },
     "execution_count": 154,
     "metadata": {},
     "output_type": "execute_result"
    }
   ],
   "source": [
    "np.array(pd.DataFrame(mibitof_rand.obs['local_entropy_2']).to_dict()['local_entropy_2'].values())"
   ]
  },
  {
   "cell_type": "code",
   "execution_count": 133,
   "id": "b1c32160-56ee-4be8-9717-9918048b641b",
   "metadata": {},
   "outputs": [
    {
     "data": {
      "text/plain": [
       "NoneType"
      ]
     },
     "execution_count": 133,
     "metadata": {},
     "output_type": "execute_result"
    }
   ],
   "source": [
    "type(a)"
   ]
  },
  {
   "cell_type": "code",
   "execution_count": 149,
   "id": "1a8369dd-b3ef-4506-9156-4ee83aa3d54c",
   "metadata": {},
   "outputs": [
    {
     "data": {
      "text/plain": [
       "dict_values(['Fibroblast', 'Epithelial', 'Epithelial', 'Tcell_CD4', 'Epithelial', 'Myeloid_CD68', 'Fibroblast', 'Tcell_CD4', 'Epithelial', 'Epithelial', 'Tcell_CD4', 'Fibroblast', 'Imm_other', 'Tcell_CD4', 'Tcell_CD4', 'Tcell_CD8', 'Myeloid_CD11c', 'Epithelial', 'Tcell_CD4', 'Fibroblast', 'Myeloid_CD68', 'Tcell_CD4', 'Tcell_CD8', 'Epithelial', 'Imm_other', 'Tcell_CD8', 'Epithelial', 'Fibroblast', 'Imm_other', 'Epithelial', 'Imm_other', 'Epithelial', 'Fibroblast', 'Tcell_CD4', 'Myeloid_CD68', 'Epithelial', 'Imm_other', 'Tcell_CD4', 'Myeloid_CD11c', 'Myeloid_CD11c', 'Myeloid_CD11c', 'Tcell_CD4', 'Imm_other', 'Tcell_CD4', 'Imm_other', 'Tcell_CD4', 'Epithelial', 'Imm_other', 'Epithelial', 'Myeloid_CD68', 'Tcell_CD4', 'Tcell_CD8', 'Myeloid_CD68', 'Epithelial', 'Myeloid_CD68', 'Epithelial', 'Endothelial', 'Tcell_CD4', 'Imm_other', 'Fibroblast', 'Myeloid_CD68', 'Tcell_CD4', 'Fibroblast', 'Epithelial', 'Myeloid_CD68', 'Tcell_CD8', 'Fibroblast', 'Epithelial', 'Myeloid_CD68', 'Tcell_CD8', 'Imm_other', 'Tcell_CD8', 'Tcell_CD8', 'Fibroblast', 'Tcell_CD8', 'Epithelial', 'Myeloid_CD68', 'Myeloid_CD68', 'Epithelial', 'Endothelial', 'Tcell_CD8', 'Myeloid_CD68', 'Tcell_CD4', 'Fibroblast', 'Imm_other', 'Imm_other', 'Epithelial', 'Fibroblast', 'Fibroblast', 'Epithelial', 'Tcell_CD8', 'Imm_other', 'Myeloid_CD68', 'Fibroblast', 'Imm_other', 'Tcell_CD4', 'Imm_other', 'Myeloid_CD11c', 'Myeloid_CD68', 'Myeloid_CD68', 'Tcell_CD8', 'Myeloid_CD68', 'Myeloid_CD68', 'Tcell_CD8', 'Imm_other', 'Tcell_CD4', 'Epithelial', 'Myeloid_CD11c', 'Tcell_CD4', 'Tcell_CD8', 'Epithelial', 'Epithelial', 'Myeloid_CD68', 'Tcell_CD4', 'Imm_other', 'Tcell_CD4', 'Fibroblast', 'Tcell_CD4', 'Epithelial', 'Epithelial', 'Tcell_CD4', 'Epithelial', 'Epithelial', 'Tcell_CD4', 'Imm_other', 'Fibroblast', 'Imm_other', 'Tcell_CD4', 'Tcell_CD8', 'Fibroblast', 'Fibroblast', 'Epithelial', 'Myeloid_CD11c', 'Epithelial', 'Imm_other', 'Tcell_CD4', 'Tcell_CD4', 'Imm_other', 'Imm_other', 'Imm_other', 'Tcell_CD8', 'Imm_other', 'Myeloid_CD68', 'Tcell_CD8', 'Epithelial', 'Tcell_CD8', 'Fibroblast', 'Tcell_CD4', 'Tcell_CD4', 'Tcell_CD8'])"
      ]
     },
     "execution_count": 149,
     "metadata": {},
     "output_type": "execute_result"
    }
   ],
   "source": [
    "pd.DataFrame(mibitof_rand.obs[cluster_key]).to_dict()[cluster_key].values()"
   ]
  },
  {
   "cell_type": "code",
   "execution_count": 135,
   "id": "ac955da0-0b72-4af1-a74b-933005ac6f61",
   "metadata": {},
   "outputs": [
    {
     "data": {
      "text/plain": [
       "pandas.core.series.Series"
      ]
     },
     "execution_count": 135,
     "metadata": {},
     "output_type": "execute_result"
    }
   ],
   "source": [
    "type(mibitof_rand.obs['Cluster'])"
   ]
  },
  {
   "cell_type": "code",
   "execution_count": null,
   "id": "63b9e658-5812-44a4-8753-f18661f21d65",
   "metadata": {},
   "outputs": [],
   "source": []
  }
 ],
 "metadata": {
  "kernelspec": {
   "display_name": "Python 3 (ipykernel)",
   "language": "python",
   "name": "python3"
  },
  "language_info": {
   "codemirror_mode": {
    "name": "ipython",
    "version": 3
   },
   "file_extension": ".py",
   "mimetype": "text/x-python",
   "name": "python",
   "nbconvert_exporter": "python",
   "pygments_lexer": "ipython3",
   "version": "3.10.12"
  }
 },
 "nbformat": 4,
 "nbformat_minor": 5
}

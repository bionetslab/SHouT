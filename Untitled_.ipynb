{
 "cells": [
  {
   "cell_type": "code",
   "execution_count": null,
   "id": "e52d9cd4-b129-47de-9b3c-0d88562541fb",
   "metadata": {},
   "outputs": [],
   "source": [
    "plot_local_heterogeneity_based_differential_analyses_conditionPairWise('T-Cell Lymphoma', 'Eczema', 'local_entropy_2')"
   ]
  },
  {
   "cell_type": "code",
   "execution_count": null,
   "id": "487030ab-0c34-4ed8-aee8-009735922d4c",
   "metadata": {},
   "outputs": [],
   "source": [
    "plot_local_heterogeneity_based_differential_analyses_conditionPairWise('T-Cell Lymphoma', 'Eczema', 'local_homophily_2')"
   ]
  },
  {
   "cell_type": "code",
   "execution_count": null,
   "id": "fb80138e-3909-4219-8900-548dcd7e73cc",
   "metadata": {},
   "outputs": [],
   "source": [
    "plot_local_heterogeneity_based_differential_analyses_conditionPairWise('T-Cell Lymphoma', 'Eczema', 'egophily_2')"
   ]
  },
  {
   "cell_type": "code",
   "execution_count": null,
   "id": "db9dce6c-59c5-4820-b5f7-09574b61f98e",
   "metadata": {},
   "outputs": [],
   "source": [
    "plot_local_heterogeneity_based_differential_analyses_conditionPairWise('T-Cell Lymphoma', 'Psoriasis', 'local_entropy_2')"
   ]
  },
  {
   "cell_type": "code",
   "execution_count": null,
   "id": "426d5683-cb53-4089-a55b-6ceb67639812",
   "metadata": {},
   "outputs": [],
   "source": [
    "plot_local_heterogeneity_based_differential_analyses_conditionPairWise('T-Cell Lymphoma', 'Psoriasis', 'local_homophily_2')"
   ]
  },
  {
   "cell_type": "code",
   "execution_count": null,
   "id": "b6350c33-6370-4c9a-afc8-565388062753",
   "metadata": {},
   "outputs": [],
   "source": [
    "plot_local_heterogeneity_based_differential_analyses_conditionPairWise('T-Cell Lymphoma', 'Psoriasis', 'egophily_2')"
   ]
  },
  {
   "cell_type": "code",
   "execution_count": null,
   "id": "fd42b4ab-6fd5-464f-ac2f-aeed5587d41f",
   "metadata": {},
   "outputs": [],
   "source": [
    "plot_local_heterogeneity_based_differential_analyses_conditionPairWise('Eczema', 'Psoriasis', 'local_entropy_2')"
   ]
  },
  {
   "cell_type": "code",
   "execution_count": null,
   "id": "1b0a4aa3-26e4-4b88-a38c-7f07daccf14a",
   "metadata": {},
   "outputs": [],
   "source": [
    "plot_local_heterogeneity_based_differential_analyses_conditionPairWise('Eczema', 'Psoriasis', 'local_homophily_2')"
   ]
  },
  {
   "cell_type": "code",
   "execution_count": null,
   "id": "a54978a3-9e30-481f-acc6-534c87786864",
   "metadata": {},
   "outputs": [],
   "source": [
    "plot_local_heterogeneity_based_differential_analyses_conditionPairWise('Eczema', 'Psoriasis', 'egophily_2')"
   ]
  },
  {
   "cell_type": "markdown",
   "id": "176a8f70-003a-4e81-91b3-b5abe40ef1d4",
   "metadata": {},
   "source": [
    "# ============================== ROUGH: =============================="
   ]
  },
  {
   "cell_type": "markdown",
   "id": "8870a663-cf9e-4a20-982f-aa510d3b50a5",
   "metadata": {},
   "source": [
    "### B. Local heterogeneity measure-based differential analyses:"
   ]
  },
  {
   "cell_type": "markdown",
   "id": "ac007439-4cf8-42b1-94dc-d9c4b5ec19cb",
   "metadata": {},
   "source": [
    "#### i. TCL vs Eczema"
   ]
  },
  {
   "cell_type": "markdown",
   "id": "6cc459c2-7177-4e68-bffc-e7cf8e359836",
   "metadata": {},
   "source": [
    "##### local_entropy_2:"
   ]
  },
  {
   "cell_type": "code",
   "execution_count": null,
   "id": "fa04899e-d1e4-429b-b50b-13fb6b751297",
   "metadata": {},
   "outputs": [],
   "source": [
    "plot_local_heterogeneity_based_differential_analyses_cumulative('local_entropy_2')"
   ]
  },
  {
   "cell_type": "code",
   "execution_count": null,
   "id": "750240c6-a224-42f2-b0c5-bac18e84e7dc",
   "metadata": {},
   "outputs": [],
   "source": [
    "mwu_pvals_per_celltype[i][j][heterogeneity_score_under_review]"
   ]
  },
  {
   "cell_type": "code",
   "execution_count": null,
   "id": "4f63043b-8c1c-4623-9819-121d3fb0eff2",
   "metadata": {},
   "outputs": [],
   "source": [
    "j"
   ]
  },
  {
   "cell_type": "code",
   "execution_count": null,
   "id": "1f077e78-54b9-4553-9ec2-0bd9ffbde22d",
   "metadata": {},
   "outputs": [],
   "source": [
    "def annot_stat(star, x1, x2, y, h, col='k', ax=None):\n",
    "    ax = plt.gca() if ax is None else ax\n",
    "    ax.plot([x1, x1, x2, x2], [y, y+h, y+h, y], lw=1.5, c=col)\n",
    "    ax.text((x1+x2)*.5, y+h, star, ha='center', va='bottom', color=col)\n",
    "    \n",
    "zero = pd.DataFrame({'Number of Research Years': [0,1,2], \n",
    "                     'Total Publications': 100*np.random.random(size=3),\n",
    "                     'Publications During Residency': 100*np.random.random(size=3),\n",
    "                     'Publications Before & After Residency': 100*np.random.random(size=3), \n",
    "                     'H Index': 10*np.random.random(size=3)})\n",
    "\n",
    "fig, axes = plt.subplots(2, 2, sharex= False, sharey= True, figsize=(8,8))\n",
    "\n",
    "ax1= sns.barplot(ax=axes[0,0], x= zero['Number of Research Years'], y= zero['Total Publications'])\n",
    "ax2= sns.barplot(ax=axes[0,1], x= zero['Number of Research Years'], y= zero['Publications During Residency'])\n",
    "ax3= sns.barplot(ax=axes[1,0], x= zero['Number of Research Years'], y= zero['Publications Before & After Residency'])\n",
    "ax4= sns.barplot(ax=axes[1,1], x= zero['Number of Research Years'], y= zero['H Index'])\n",
    "\n",
    "ax1.text(0.05, 0.95, \"A\", fontweight=\"bold\", transform=ax1.transAxes)\n",
    "ax2.text(0.05, 0.95, \"B\", fontweight=\"bold\", transform=ax2.transAxes)\n",
    "ax3.text(0.05, 0.95, \"C\", fontweight=\"bold\", transform=ax3.transAxes)\n",
    "ax4.text(0.05, 0.95, \"D\", fontweight=\"bold\", transform=ax4.transAxes)\n",
    "\n",
    "annot_stat('*', 1, 2, 100, 5, ax=ax1)\n",
    "annot_stat('***', 0, 2, 120, 5, ax=ax1)\n",
    "\n",
    "annot_stat('*', 1, 2, 100, 5, ax=ax2)\n",
    "annot_stat('***', 0, 2, 120, 5, ax=ax2)\n",
    "\n",
    "annot_stat('*', 1, 2, 100, 5, ax=ax3)\n",
    "annot_stat('***', 0, 2, 120, 5, ax=ax3)\n",
    "\n",
    "annot_stat('***', 1, 2, 10, 5, ax=ax4)\n",
    "annot_stat('*', 0, 2, 20, 5, ax=ax4)\n",
    "\n",
    "\n",
    "sns.despine()\n",
    "plt.show()"
   ]
  },
  {
   "cell_type": "code",
   "execution_count": null,
   "id": "9ea34900-7759-4597-88c6-9c7129a54340",
   "metadata": {},
   "outputs": [],
   "source": [
    "df = sns.load_dataset(\"iris\")\n",
    "x = \"species\"\n",
    "y = \"sepal_length\"\n",
    "\n",
    "pairs = [(\"setosa\", \"versicolor\"), (\"setosa\", \"virginica\"), (\"versicolor\", \"virginica\")]\n"
   ]
  },
  {
   "cell_type": "code",
   "execution_count": null,
   "id": "6cc20319-427b-4740-9603-57baeff1e145",
   "metadata": {},
   "outputs": [],
   "source": [
    "from scipy.stats import bartlett\n",
    "\n",
    "test_short_name = 'Bartlett'\n",
    "pvalues = []\n",
    "for pair in pairs:\n",
    "    data1 = df.groupby(x)[y].get_group(pair[0])\n",
    "    data2 = df.groupby(x)[y].get_group(pair[1])\n",
    "    stat, p = bartlett(data1, data2)\n",
    "    print(\"Performing Bartlett statistical test for equal variances on pair:\",\n",
    "          pair, \"stat={:.2e} p-value={:.2e}\".format(stat, p))\n",
    "    pvalues.append(p)\n",
    "print(\"pvalues:\", pvalues)"
   ]
  },
  {
   "cell_type": "code",
   "execution_count": null,
   "id": "5e29652d-517f-4c93-a36c-057d841bc193",
   "metadata": {},
   "outputs": [],
   "source": [
    "from statannotations.Annotator import Annotator\n",
    "annot = Annotator(ax, [(\"Thur\", \"Fri\"), (\"Thur\", \"Sat\"), (\"Fri\", \"Sun\")], data=df, x=x, y=y, order=order)\n",
    "ax = sns.boxplot(data=df, x=x, y=y)\n",
    "annot.new_plot(ax=ax, pairs=pairs,\n",
    "               data=df, x=x, y=y)\n",
    "(annot\n",
    " .configure(test=None, test_short_name=test_short_name)\n",
    " .set_pvalues(pvalues=pvalues)\n",
    " .annotate())\n",
    "plt.show()"
   ]
  },
  {
   "cell_type": "code",
   "execution_count": null,
   "id": "fa0637e3-6914-4a2f-9dcf-0ac28967fbd1",
   "metadata": {},
   "outputs": [],
   "source": [
    "df = sns.load_dataset(\"tips\")\n",
    "x = \"day\"\n",
    "y = \"total_bill\"\n",
    "order = ['Sun', 'Thur', 'Fri', 'Sat']\n",
    "\n",
    "ax = sns.boxplot(data=df, x=x, y=y, order=order)\n",
    "\n",
    "pairs=[(\"Thur\", \"Fri\"), (\"Thur\", \"Sat\"), (\"Fri\", \"Sun\")]\n",
    "\n",
    "annotator = Annotator(ax, pairs, data=df, x=x, y=y, order=order)\n",
    "annotator.configure(test=None, text_format='star', loc='outside')\n",
    "annotator.set_pvalues(pvalues=pvalues)\n",
    "# annotator.apply_and_annotate()\n",
    "annotator.annotate()\n",
    "plt.show()"
   ]
  },
  {
   "cell_type": "code",
   "execution_count": null,
   "id": "a74e10a5-cd3f-4736-ad41-b68a6640dedb",
   "metadata": {},
   "outputs": [],
   "source": [
    "df = sns.load_dataset(\"tips\")\n",
    "x = \"day\"\n",
    "y = \"total_bill\"\n",
    "hue = \"smoker\"\n",
    "pairs = [((\"Thur\", \"No\"), (\"Fri\", \"No\")),\n",
    "         ((\"Sat\", \"Yes\"), (\"Sat\", \"No\")),\n",
    "         ((\"Sun\", \"No\"), (\"Thur\", \"Yes\"))]\n",
    "ax = sns.boxplot(data=df, x=x, y=y, hue=hue)\n",
    "annot.new_plot(ax, pairs,\n",
    "               data=df, x=x, y=y, hue=hue)\n",
    "annot.configure(test='t-test_ind', text_format='full', loc='inside',\n",
    "                comparisons_correction=None, line_height=0.05, text_offset=8)\n",
    "\n",
    "annot.apply_test().annotate(line_offset_to_group=0.2, line_offset=0.1)\n",
    "\n",
    "plt.legend(loc='upper left', bbox_to_anchor=(1.03, 1))\n",
    "plt.savefig('example_tuning_y_offsets.svg')\n",
    "plt.savefig('example_tuning_y_offsets.png', dpi=300, bbox_inches='tight')"
   ]
  },
  {
   "cell_type": "code",
   "execution_count": null,
   "id": "949cdaed-92a3-47e1-a235-3cc0327af156",
   "metadata": {},
   "outputs": [],
   "source": [
    "import seaborn as sns\n",
    "\n",
    "from statannotations.Annotator import Annotator"
   ]
  },
  {
   "cell_type": "code",
   "execution_count": null,
   "id": "c9db9992-bd83-403c-bfea-a1561f5ede82",
   "metadata": {},
   "outputs": [],
   "source": [
    "df = sns.load_dataset(\"tips\")\n",
    "x = \"day\"\n",
    "y = \"total_bill\"\n",
    "order = ['Sun', 'Thur', 'Fri', 'Sat']\n",
    "ax = sns.boxplot(data=df, x=x, y=y, order=order)\n",
    "annot.new_plot(ax, pairs=[(\"Thur\", \"Fri\"),(\"Thur\", \"Sat\"), (\"Fri\", \"Sun\")], data=df, x=x, y=y, order=order)\n",
    "annot.configure(loc='outside', comparisons_correction=None,)\n",
    "annot.set_custom_annotations([\"first pair\", \"second pair\", \"third pair\"])\n",
    "annot.annotate()\n",
    "\n",
    "plt.savefig('example_custom_text_annot.png', dpi=300, bbox_inches='tight')"
   ]
  },
  {
   "cell_type": "code",
   "execution_count": null,
   "id": "06542627-f81c-4a78-9113-c4a2d111675a",
   "metadata": {},
   "outputs": [],
   "source": [
    "plotting_parameters = {\n",
    "    'data':    df,\n",
    "    'x':       x,\n",
    "    'y':       y\n",
    "}\n",
    "\n",
    "pairs = [('Robots', 'Flight'),\n",
    "         ('Flight', 'Sound'),\n",
    "         ('Robots', 'Sound')]\n",
    "\n",
    "with sns.plotting_context('notebook', font_scale = 1.4):\n",
    "    # Create new plot\n",
    "    # ax = get_log_ax()\n",
    "\n",
    "    # Plot with seaborn\n",
    "    sns.boxplot(**plotting_parameters)\n",
    "\n",
    "    # Add annotations\n",
    "    annotator = Annotator(ax, pairs, **plotting_parameters)\n",
    "    annotator.set_custom_annotations(formatted_pvalues)\n",
    "    annotator.annotate()\n",
    "\n",
    "    # Label and show\n",
    "    label_plot_for_subcats(ax)\n",
    "    plt.show()"
   ]
  },
  {
   "cell_type": "code",
   "execution_count": null,
   "id": "c36bb944-b9c8-4a36-8cfe-f90188eb03c5",
   "metadata": {},
   "outputs": [],
   "source": [
    "df = sns.load_dataset(\"tips\")\n",
    "x = \"day\"\n",
    "y = \"total_bill\"\n",
    "hue = \"smoker\"\n",
    "pairs = [((\"Thur\", \"No\"), (\"Fri\", \"No\")),\n",
    "         ((\"Sat\", \"Yes\"), (\"Sat\", \"No\")),\n",
    "         ((\"Sun\", \"No\"), (\"Thur\", \"Yes\"))]\n",
    "ax = sns.boxplot(data=df, x=x, y=y, hue=hue)\n",
    "annot.new_plot(ax, pairs,\n",
    "               data=df, x=x, y=y, hue=hue)\n",
    "annot.configure(test='t-test_ind', text_format='full', loc='inside',\n",
    "                comparisons_correction=None, line_height=0.05, text_offset=8)\n",
    "\n",
    "annot.apply_test().annotate(line_offset_to_group=0.2, line_offset=0.1)\n",
    "\n",
    "plt.legend(loc='upper left', bbox_to_anchor=(1.03, 1))\n",
    "plt.savefig('example_tuning_y_offsets.svg')\n",
    "plt.savefig('example_tuning_y_offsets.png', dpi=300, bbox_inches='tight')"
   ]
  }
 ],
 "metadata": {
  "kernelspec": {
   "display_name": "Python 3 (ipykernel)",
   "language": "python",
   "name": "python3"
  },
  "language_info": {
   "codemirror_mode": {
    "name": "ipython",
    "version": 3
   },
   "file_extension": ".py",
   "mimetype": "text/x-python",
   "name": "python",
   "nbconvert_exporter": "python",
   "pygments_lexer": "ipython3",
   "version": "3.10.12"
  }
 },
 "nbformat": 4,
 "nbformat_minor": 5
}

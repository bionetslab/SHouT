import squidpy as sq
import seaborn as sns
import shout
import pandas as pd
from IPython.display import set_matplotlib_formats
import random
import scanpy as sc


mibitof = sq.datasets.mibitof()


mibitof


mibitof_df=mibitof.to_df()


indices=mibitof.to_df().index
indices=indices.to_list()


len(indices)


mibitof_df=mibitof_df.reset_index(drop=True)


mibitof_df


# --- Imports: ---
import time
# ---- Code: ----
runtimes={}
n=[50, 100, 150, 200, 250, 300, 350, 400, 450, 500, 1000, 2000, 3000]
indices_range=range(len(indices))

for _count_ in range (50):
    count=0
    for i in n:
        print('Iteration '+str(_count_+1)+', i= '+str(i))
        # ---
        rs=random.sample(indices_range, i)
        # print(mibitof_df.loc[rs])
        mibitof_rand=sc.AnnData(mibitof_df)
        # ---
        scores_mibitof = shout.all_scores(mibitof, cluster_key='Cluster', radius=2)
        end = time.time()
        try:
            runtimes[i].append(end-start)
        except:
            runtimes[i]=[]
            runtimes[i].append(end-start)


mibitof.obsp['distances']


import numpy as np
np.shape(mibitof.obsp['distances'].todense())


mibitof.obsp['distances'].todense()




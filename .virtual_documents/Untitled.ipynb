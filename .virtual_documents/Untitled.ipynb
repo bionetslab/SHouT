import matlab
import matlab.engine

myEngine = matlab.engine.start_matlab()


def createList(r1, r2):
    return [item for item in range(r1, r2+1)]
     
# Driver Code
r1, r2 = 0, 1000
list1=createList(r1, r2)

r1, r2 = 0, 1000
list2=createList(r1, r2)


# list1=[1,2,3,4]
matlabNum1=matlab.double(list1)
# list2=[5,6,7,8]
matlabNum2=matlab.double(list2)
a=myEngine.ranksum(matlabNum1,matlabNum2)
print(a)


matlabNum1


list1




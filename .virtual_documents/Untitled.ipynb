plot_local_heterogeneity_based_differential_analyses_conditionPairWise('T-Cell Lymphoma', 'Eczema', 'local_entropy_2')


plot_local_heterogeneity_based_differential_analyses_conditionPairWise('T-Cell Lymphoma', 'Eczema', 'local_homophily_2')


plot_local_heterogeneity_based_differential_analyses_conditionPairWise('T-Cell Lymphoma', 'Eczema', 'egophily_2')


plot_local_heterogeneity_based_differential_analyses_conditionPairWise('T-Cell Lymphoma', 'Psoriasis', 'local_entropy_2')


plot_local_heterogeneity_based_differential_analyses_conditionPairWise('T-Cell Lymphoma', 'Psoriasis', 'local_homophily_2')


plot_local_heterogeneity_based_differential_analyses_conditionPairWise('T-Cell Lymphoma', 'Psoriasis', 'egophily_2')


plot_local_heterogeneity_based_differential_analyses_conditionPairWise('Eczema', 'Psoriasis', 'local_entropy_2')


plot_local_heterogeneity_based_differential_analyses_conditionPairWise('Eczema', 'Psoriasis', 'local_homophily_2')


plot_local_heterogeneity_based_differential_analyses_conditionPairWise('Eczema', 'Psoriasis', 'egophily_2')














plot_local_heterogeneity_based_differential_analyses_cumulative('local_entropy_2')


mwu_pvals_per_celltype[i][j][heterogeneity_score_under_review]


j


def annot_stat(star, x1, x2, y, h, col='k', ax=None):
    ax = plt.gca() if ax is None else ax
    ax.plot([x1, x1, x2, x2], [y, y+h, y+h, y], lw=1.5, c=col)
    ax.text((x1+x2)*.5, y+h, star, ha='center', va='bottom', color=col)
    
zero = pd.DataFrame({'Number of Research Years': [0,1,2], 
                     'Total Publications': 100*np.random.random(size=3),
                     'Publications During Residency': 100*np.random.random(size=3),
                     'Publications Before & After Residency': 100*np.random.random(size=3), 
                     'H Index': 10*np.random.random(size=3)})

fig, axes = plt.subplots(2, 2, sharex= False, sharey= True, figsize=(8,8))

ax1= sns.barplot(ax=axes[0,0], x= zero['Number of Research Years'], y= zero['Total Publications'])
ax2= sns.barplot(ax=axes[0,1], x= zero['Number of Research Years'], y= zero['Publications During Residency'])
ax3= sns.barplot(ax=axes[1,0], x= zero['Number of Research Years'], y= zero['Publications Before & After Residency'])
ax4= sns.barplot(ax=axes[1,1], x= zero['Number of Research Years'], y= zero['H Index'])

ax1.text(0.05, 0.95, "A", fontweight="bold", transform=ax1.transAxes)
ax2.text(0.05, 0.95, "B", fontweight="bold", transform=ax2.transAxes)
ax3.text(0.05, 0.95, "C", fontweight="bold", transform=ax3.transAxes)
ax4.text(0.05, 0.95, "D", fontweight="bold", transform=ax4.transAxes)

annot_stat('*', 1, 2, 100, 5, ax=ax1)
annot_stat('***', 0, 2, 120, 5, ax=ax1)

annot_stat('*', 1, 2, 100, 5, ax=ax2)
annot_stat('***', 0, 2, 120, 5, ax=ax2)

annot_stat('*', 1, 2, 100, 5, ax=ax3)
annot_stat('***', 0, 2, 120, 5, ax=ax3)

annot_stat('***', 1, 2, 10, 5, ax=ax4)
annot_stat('*', 0, 2, 20, 5, ax=ax4)


sns.despine()
plt.show()


df = sns.load_dataset("iris")
x = "species"
y = "sepal_length"

pairs = [("setosa", "versicolor"), ("setosa", "virginica"), ("versicolor", "virginica")]



from scipy.stats import bartlett

test_short_name = 'Bartlett'
pvalues = []
for pair in pairs:
    data1 = df.groupby(x)[y].get_group(pair[0])
    data2 = df.groupby(x)[y].get_group(pair[1])
    stat, p = bartlett(data1, data2)
    print("Performing Bartlett statistical test for equal variances on pair:",
          pair, "stat={:.2e} p-value={:.2e}".format(stat, p))
    pvalues.append(p)
print("pvalues:", pvalues)


from statannotations.Annotator import Annotator
annot = Annotator(ax, [("Thur", "Fri"), ("Thur", "Sat"), ("Fri", "Sun")], data=df, x=x, y=y, order=order)
ax = sns.boxplot(data=df, x=x, y=y)
annot.new_plot(ax=ax, pairs=pairs,
               data=df, x=x, y=y)
(annot
 .configure(test=None, test_short_name=test_short_name)
 .set_pvalues(pvalues=pvalues)
 .annotate())
plt.show()


df = sns.load_dataset("tips")
x = "day"
y = "total_bill"
order = ['Sun', 'Thur', 'Fri', 'Sat']

ax = sns.boxplot(data=df, x=x, y=y, order=order)

pairs=[("Thur", "Fri"), ("Thur", "Sat"), ("Fri", "Sun")]

annotator = Annotator(ax, pairs, data=df, x=x, y=y, order=order)
annotator.configure(test=None, text_format='star', loc='outside')
annotator.set_pvalues(pvalues=pvalues)
# annotator.apply_and_annotate()
annotator.annotate()
plt.show()


df = sns.load_dataset("tips")
x = "day"
y = "total_bill"
hue = "smoker"
pairs = [(("Thur", "No"), ("Fri", "No")),
         (("Sat", "Yes"), ("Sat", "No")),
         (("Sun", "No"), ("Thur", "Yes"))]
ax = sns.boxplot(data=df, x=x, y=y, hue=hue)
annot.new_plot(ax, pairs,
               data=df, x=x, y=y, hue=hue)
annot.configure(test='t-test_ind', text_format='full', loc='inside',
                comparisons_correction=None, line_height=0.05, text_offset=8)

annot.apply_test().annotate(line_offset_to_group=0.2, line_offset=0.1)

plt.legend(loc='upper left', bbox_to_anchor=(1.03, 1))
plt.savefig('example_tuning_y_offsets.svg')
plt.savefig('example_tuning_y_offsets.png', dpi=300, bbox_inches='tight')


import seaborn as sns

from statannotations.Annotator import Annotator


df = sns.load_dataset("tips")
x = "day"
y = "total_bill"
order = ['Sun', 'Thur', 'Fri', 'Sat']
ax = sns.boxplot(data=df, x=x, y=y, order=order)
annot.new_plot(ax, pairs=[("Thur", "Fri"),("Thur", "Sat"), ("Fri", "Sun")], data=df, x=x, y=y, order=order)
annot.configure(loc='outside', comparisons_correction=None,)
annot.set_custom_annotations(["first pair", "second pair", "third pair"])
annot.annotate()

plt.savefig('example_custom_text_annot.png', dpi=300, bbox_inches='tight')


plotting_parameters = {
    'data':    df,
    'x':       x,
    'y':       y
}

pairs = [('Robots', 'Flight'),
         ('Flight', 'Sound'),
         ('Robots', 'Sound')]

with sns.plotting_context('notebook', font_scale = 1.4):
    # Create new plot
    # ax = get_log_ax()

    # Plot with seaborn
    sns.boxplot(**plotting_parameters)

    # Add annotations
    annotator = Annotator(ax, pairs, **plotting_parameters)
    annotator.set_custom_annotations(formatted_pvalues)
    annotator.annotate()

    # Label and show
    label_plot_for_subcats(ax)
    plt.show()


df = sns.load_dataset("tips")
x = "day"
y = "total_bill"
hue = "smoker"
pairs = [(("Thur", "No"), ("Fri", "No")),
         (("Sat", "Yes"), ("Sat", "No")),
         (("Sun", "No"), ("Thur", "Yes"))]
ax = sns.boxplot(data=df, x=x, y=y, hue=hue)
annot.new_plot(ax, pairs,
               data=df, x=x, y=y, hue=hue)
annot.configure(test='t-test_ind', text_format='full', loc='inside',
                comparisons_correction=None, line_height=0.05, text_offset=8)

annot.apply_test().annotate(line_offset_to_group=0.2, line_offset=0.1)

plt.legend(loc='upper left', bbox_to_anchor=(1.03, 1))
plt.savefig('example_tuning_y_offsets.svg')
plt.savefig('example_tuning_y_offsets.png', dpi=300, bbox_inches='tight')

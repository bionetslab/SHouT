import numpy as np
import pandas as pd
import pickle
import squidpy as sq
import seaborn as sns
import shout
from IPython.display import set_matplotlib_formats
import random
import scanpy as sc
import time
import pickle
import matplotlib.pyplot as plt
import hdf5plugin
import os


adata_path='/Users/surya/Documents/GITHUB-REPOSITORIES/SHouT/test/data/'
cluster_key='celltype'
write_adata_path='/Users/surya/Documents/GITHUB-REPOSITORIES/SHouT/test/results/'


Pkl={}

for file in os.listdir(adata_path):
    filename = os.fsdecode(file)
    if filename.endswith(".h5ad"):
        Pkl[filename.split('.')[0]]=sc.read_h5ad(adata_path+filename) # or, sc.read()
        continue
    else:
        continue


shout.all_scores(Pkl['270'], cluster_key=cluster_key, radii=[1,2,3,4,5], copy=False)
# adata, cluster_key, radii, normalize=True, num_cell_types=None, coord_type='generic', copy=False


Pkl['270'].uns['spatial']


adata=Pkl[i]
start = time.time()
shout.all_scores(adata, cluster_key=cluster_key, radii=[1,2,3,4,5], copy=False)
end = time.time()
adata.uns['SHouT_execution_time']=end-start
# ---
_str_=str(i)+'.h5ad'
adata.write_h5ad(
_str_,
compression=hdf5plugin.FILTERS["zstd"]
)
# ---
print('Patient#: '+str(i))
patients_good.append(i)


patients_good=[]
patients_bad=[]
for i in Pkl:
    adata=Pkl[i]
    try:
        shout.all_scores(adata, cluster_key=cluster_key, radii=[1,2,3,4,5], copy=False)
        end = time.time()
        adata.uns['SHouT_execution_time']=end-start
        # ---
        _str_=write_adata_path+str(i)+'.h5ad'
        adata.write_h5ad(
        _str_,
        compression=hdf5plugin.FILTERS["zstd"]
        )
        # ---
        print('Patient#: '+str(i))
        patients_good.append(i)
    except:
        print('Patient# '+str(i)+': Not enough cells in image to generate spatial neighbors graph')
        patients_bad.append(i)


Pkl


LOCAL_ENTROPY_2={}
LOCAL_HOMOPHILY_2={}
EGOPHILY_2={}

DF=[]
for i in Pkl:
    if i not in patients_bad:
        df=pd.DataFrame()
        celltype=Pkl[i].obs['celltype']
        df['celltype']=celltype
        local_entropy_2=Pkl[i].obs['local_entropy_2']
        df['local_entropy_2']=local_entropy_2
        local_homophily_2=Pkl[i].obs['local_homophily_2']
        df['local_homophily_2']=local_homophily_2
        egophily_2=Pkl[i].obs['egophily_2']
        df['egophily_2']=egophily_2
        # ---
        df['cell_id']=Pkl[i].obs['cell_id']
        df['celltype']=Pkl[i].obs['celltype']
        df['cell_index_in_patient']=Pkl[i].to_df().index
        # ---
        df['Group']=Pkl[i].uns['Group']
        df['SHouT_execution_time']=Pkl[i].uns['SHouT_execution_time']
        df['patient_id']=Pkl[i].uns['patient_id']
        df['patient_index']=i
        # ---
        DF.append(df)
        # ---
    else:
        print('Patient# '+str(i)+' did not have enough annotated (clustered) cells to generate spatial neighborhood graph!')
DF=pd.concat(DF, axis=0)
conditions=np.unique(DF.Group)


import seaborn as sns
sns.set_theme(style="ticks", palette="pastel")
# ---
f=sns.boxplot(x="Group", y="local_entropy_2",
            hue="celltype", palette='RdBu',
            data=DF)
sns.despine(offset=10, trim=True)
sns.move_legend(f.figure.axes[0], "upper left", bbox_to_anchor=(1.25, 1))


import seaborn as sns
sns.set_theme(style="ticks", palette="pastel")
# ---
f=sns.boxplot(x="Group", y="local_homophily_2",
            hue="celltype", palette='RdBu',
            data=DF)
sns.despine(offset=10, trim=True)
sns.move_legend(f.figure.axes[0], "upper left", bbox_to_anchor=(1.25, 1))


import seaborn as sns
sns.set_theme(style="ticks", palette="pastel")
# ---
f=sns.boxplot(x="Group", y="egophily_2",
            hue="celltype", palette='RdBu',
            data=DF)
sns.despine(offset=10, trim=True)
sns.move_legend(f.figure.axes[0], "upper left", bbox_to_anchor=(1.25, 1))




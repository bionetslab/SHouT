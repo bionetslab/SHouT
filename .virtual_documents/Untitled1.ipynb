import numpy as np
np.str_("e")


type(np.str_("e"))




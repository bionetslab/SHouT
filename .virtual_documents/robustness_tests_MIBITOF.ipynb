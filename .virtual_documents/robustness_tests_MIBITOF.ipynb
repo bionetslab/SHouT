import squidpy as sq
import seaborn as sns
import shout
import pandas as pd
from IPython.display import set_matplotlib_formats
import random
import scanpy as sc
import numpy as np
import pickle


mibitof = sq.datasets.mibitof()


mibitof


mibitof_df=mibitof.to_df()


indices=mibitof.to_df().index
indices=indices.to_list()


len(indices)


mibitof_df=mibitof_df.reset_index(drop=True)


mibitof_df





# --- Imports: ---
import time
# ---- Code: ----
# shout_scores={}
n=[5, 10, 50, 100, 200, 500]
# n=[5, 10]
cluster_key='Cluster'
indices_range=range(len(indices))

LOCAL_ENTROPY_2={}
LOCAL_HOMOPHILY_2={}
EGOPHILY_2={}


for i in n:
    LOCAL_ENTROPY_2[i]=[]
    LOCAL_HOMOPHILY_2[i]=[]
    EGOPHILY_2[i]=[]
    # ---
    local_entropy_2={}
    local_homophily_2={}
    egophily_2={}
    # ---
    for j in range(25):
        # print('Iteration '+str(_count_+1)+', i= '+str(i))
        # ---
        rs=random.sample(indices_range, i)
        # print(mibitof_df.loc[rs])
        mibitof_rand=sc.AnnData(mibitof_df.iloc[rs])
        # ---
        _mibitof_obs_df_=pd.DataFrame(mibitof.obs)
        for j in mibitof.obs.columns:
            mibitof_obs_df=_mibitof_obs_df_[j].iloc[rs]
            mibitof_rand.obs[j]=np.array(mibitof_obs_df)
        # ---
        mibitof_rand.var=mibitof.var
        # ---
        mibitof_rand.uns=mibitof.uns
        # ---
        _mibitof_obsm_df_=pd.DataFrame(mibitof.obsm)
        for j in mibitof.obsm:
            mibitof_obsm_df=pd.DataFrame(mibitof.obsm[j]).iloc[rs]
            mibitof_rand.obsm[j]=np.array(mibitof_obsm_df)
        # ---
        # _mibitof_obsp_df_=pd.DataFrame(mibitof.obsp)
        # for j in mibitof.obsp:
            # mibitof_obsp_df=pd.DataFrame(mibitof.obsp[j]).iloc[rs]
            # mibitof_rand.obsp[j]=np.array(mibitof_obsp_df)
        # ---
        scores_mibitof = shout.all_scores(mibitof_rand, cluster_key, radius=2)
        # end = time.time()
        # ============================
        
        scores=[k for k in pd.DataFrame(mibitof_rand.obs['local_entropy_2']).to_dict()['local_entropy_2'].values()]
        celltypes=[k for k in pd.DataFrame(mibitof_rand.obs[cluster_key]).to_dict()[cluster_key].values()]
        count=-1
        for k in celltypes:
            count+=1
            try:
                local_entropy_2[k].append(scores[count])
            except:
                local_entropy_2[k]=[]
                local_entropy_2[k].append(scores[count])
        LOCAL_ENTROPY_2[i].append(local_entropy_2)
        # ============================
        
        scores=[k for k in pd.DataFrame(mibitof_rand.obs['local_homophily_2']).to_dict()['local_homophily_2'].values()]
        celltypes=[k for k in pd.DataFrame(mibitof_rand.obs[cluster_key]).to_dict()[cluster_key].values()]
        count=-1
        for k in celltypes:
            count+=1
            try:
                local_homophily_2[k].append(scores[count])
            except:
                local_homophily_2[k]=[]
                local_homophily_2[k].append(scores[count])
        LOCAL_HOMOPHILY_2[i].append(local_homophily_2)
        # ============================
        
        scores=[k for k in pd.DataFrame(mibitof_rand.obs['egophily_2']).to_dict()['egophily_2'].values()]
        celltypes=[k for k in pd.DataFrame(mibitof_rand.obs[cluster_key]).to_dict()[cluster_key].values()]
        count=-1
        for k in celltypes:
            count+=1
            try:
                egophily_2[k].append(scores[count])
            except:
                egophily_2[k]=[]
                egophily_2[k].append(scores[count])
        EGOPHILY_2[i].append(egophily_2)
        # ============================





dict_LOCAL_ENTROPY_2={}
for i in LOCAL_ENTROPY_2:
    dict_LOCAL_ENTROPY_2[i]={}
    _dict_={}
    for j in range(len(LOCAL_ENTROPY_2[i])):
        for k in LOCAL_ENTROPY_2[i][j]:
            try:
                _dict_[k].append(LOCAL_ENTROPY_2[i][j][k])
            except:
                _dict_[k]=[]
                _dict_[k].append(LOCAL_ENTROPY_2[i][j][k])
    # ---
    for j in _dict_:
        flat_list = [
                    x
                    for xs in _dict_[j]
                    for x in xs
                ]
        _dict_[j]=flat_list
    # =====
    # _df_=pd.DataFrame()
    celltype_list=[]
    scores_list=[]
    _len_=0
    for j in _dict_:
        # _df_['celltype']=[j]*len(_dict_[j])
        # _df_['score']=_dict_[j]
        _len_+=len(_dict_[j])
        celltype_list.append([j] * len(_dict_[j]))
        scores_list.append(_dict_[j])
        # _df_['celltype']=[j]*len(_dict_[j])
    radius_list=[i]*_len_
    # ---
    flat_list = [
                    x
                    for xs in celltype_list
                    for x in xs
                ]
    celltype_list=flat_list
    # ---
    flat_list = [
                    x
                    for xs in scores_list
                    for x in xs
                ]
    scores_list=flat_list
    # ---
    dict_LOCAL_ENTROPY_2[i]['celltype']=celltype_list
    dict_LOCAL_ENTROPY_2[i]['scores']=scores_list
    dict_LOCAL_ENTROPY_2[i]['radius']=radius_list
    # ---
        
    
    '''_df_[j]=_dict_[j]
        _len_+=len(_dict_[j])
    _df_['radius']=[i]*_len_'''

# df_LOCAL_ENTROPY_2=pd.DataFrame()
dict_LOCAL_ENTROPY_2_values=[k for k in dict_LOCAL_ENTROPY_2.values()]
df={}
for i in dict_LOCAL_ENTROPY_2_values:
    for j in i:
        try:
            df[j].append(i[j])
        except:
            df[j]=[]
            df[j].append(i[j])

df_final={}
for i in df:
    flat_list = [
                    x
                    for xs in df[i]
                    for x in xs
                ]
    df_final[i]=flat_list

df_LOCAL_ENTROPY_2=pd.DataFrame.from_dict(df_final)
print(df_LOCAL_ENTROPY_2)





dict_LOCAL_HOMOPHILY_2={}
for i in LOCAL_HOMOPHILY_2:
    dict_LOCAL_HOMOPHILY_2[i]={}
    _dict_={}
    for j in range(len(LOCAL_HOMOPHILY_2[i])):
        for k in LOCAL_HOMOPHILY_2[i][j]:
            try:
                _dict_[k].append(LOCAL_HOMOPHILY_2[i][j][k])
            except:
                _dict_[k]=[]
                _dict_[k].append(LOCAL_HOMOPHILY_2[i][j][k])
    # ---
    for j in _dict_:
        flat_list = [
                    x
                    for xs in _dict_[j]
                    for x in xs
                ]
        _dict_[j]=flat_list
    # =====
    # _df_=pd.DataFrame()
    celltype_list=[]
    scores_list=[]
    _len_=0
    for j in _dict_:
        # _df_['celltype']=[j]*len(_dict_[j])
        # _df_['score']=_dict_[j]
        _len_+=len(_dict_[j])
        celltype_list.append([j] * len(_dict_[j]))
        scores_list.append(_dict_[j])
        # _df_['celltype']=[j]*len(_dict_[j])
    radius_list=[i]*_len_
    # ---
    flat_list = [
                    x
                    for xs in celltype_list
                    for x in xs
                ]
    celltype_list=flat_list
    # ---
    flat_list = [
                    x
                    for xs in scores_list
                    for x in xs
                ]
    scores_list=flat_list
    # ---
    dict_LOCAL_HOMOPHILY_2[i]['celltype']=celltype_list
    dict_LOCAL_HOMOPHILY_2[i]['scores']=scores_list
    dict_LOCAL_HOMOPHILY_2[i]['radius']=radius_list
    # ---
        
    
    '''_df_[j]=_dict_[j]
        _len_+=len(_dict_[j])
    _df_['radius']=[i]*_len_'''

# df_LOCAL_HOMOPHILY_2=pd.DataFrame()
dict_LOCAL_HOMOPHILY_2_values=[k for k in dict_LOCAL_HOMOPHILY_2.values()]
df={}
for i in dict_LOCAL_HOMOPHILY_2_values:
    for j in i:
        try:
            df[j].append(i[j])
        except:
            df[j]=[]
            df[j].append(i[j])

df_final={}
for i in df:
    flat_list = [
                    x
                    for xs in df[i]
                    for x in xs
                ]
    df_final[i]=flat_list

df_LOCAL_HOMOPHILY_2=pd.DataFrame.from_dict(df_final)
print(df_LOCAL_HOMOPHILY_2)





dict_EGOPHILY_2={}
for i in EGOPHILY_2:
    dict_EGOPHILY_2[i]={}
    _dict_={}
    for j in range(len(EGOPHILY_2[i])):
        for k in EGOPHILY_2[i][j]:
            try:
                _dict_[k].append(EGOPHILY_2[i][j][k])
            except:
                _dict_[k]=[]
                _dict_[k].append(EGOPHILY_2[i][j][k])
    # ---
    for j in _dict_:
        flat_list = [
                    x
                    for xs in _dict_[j]
                    for x in xs
                ]
        _dict_[j]=flat_list
    # =====
    # _df_=pd.DataFrame()
    celltype_list=[]
    scores_list=[]
    _len_=0
    for j in _dict_:
        # _df_['celltype']=[j]*len(_dict_[j])
        # _df_['score']=_dict_[j]
        _len_+=len(_dict_[j])
        celltype_list.append([j] * len(_dict_[j]))
        scores_list.append(_dict_[j])
        # _df_['celltype']=[j]*len(_dict_[j])
    radius_list=[i]*_len_
    # ---
    flat_list = [
                    x
                    for xs in celltype_list
                    for x in xs
                ]
    celltype_list=flat_list
    # ---
    flat_list = [
                    x
                    for xs in scores_list
                    for x in xs
                ]
    scores_list=flat_list
    # ---
    dict_EGOPHILY_2[i]['celltype']=celltype_list
    dict_EGOPHILY_2[i]['scores']=scores_list
    dict_EGOPHILY_2[i]['radius']=radius_list
    # ---
        
    
    '''_df_[j]=_dict_[j]
        _len_+=len(_dict_[j])
    _df_['radius']=[i]*_len_'''

# df_EGOPHILY_2=pd.DataFrame()
dict_EGOPHILY_2_values=[k for k in dict_EGOPHILY_2.values()]
df={}
for i in dict_EGOPHILY_2_values:
    for j in i:
        try:
            df[j].append(i[j])
        except:
            df[j]=[]
            df[j].append(i[j])

df_final={}
for i in df:
    flat_list = [
                    x
                    for xs in df[i]
                    for x in xs
                ]
    df_final[i]=flat_list

df_EGOPHILY_2=pd.DataFrame.from_dict(df_final)
print(df_EGOPHILY_2)


import seaborn as sns
sns.set_theme(style="ticks", palette="pastel")

# Draw a nested boxplot to show bills by day and time
f=sns.boxplot(x="radius", y="scores",
            hue="celltype", palette='RdBu',
            data=df_LOCAL_ENTROPY_2)
sns.despine(offset=10, trim=True)
sns.move_legend(f.figure.axes[0], "upper left", bbox_to_anchor=(1.25, 1))


import seaborn as sns
sns.set_theme(style="ticks", palette="pastel")

# Draw a nested boxplot to show bills by day and time
f=sns.boxplot(x="radius", y="scores",
            hue="celltype", palette='RdBu',
            data=df_LOCAL_HOMOPHILY_2)
sns.despine(offset=10, trim=True)
sns.move_legend(f.figure.axes[0], "upper left", bbox_to_anchor=(1.25, 1))


import seaborn as sns
sns.set_theme(style="ticks", palette="pastel")

# Draw a nested boxplot to show bills by day and time
f=sns.boxplot(x="radius", y="scores",
            hue="celltype", palette='RdBu',
            data=df_EGOPHILY_2)
sns.despine(offset=10, trim=True)
sns.move_legend(f.figure.axes[0], "upper left", bbox_to_anchor=(1.25, 1))





with open('robustness_tests_MIBITOF_notebook_data.pkl', 'wb') as f:
    pickle.dump([mibitof, mibitof_df, indices, df_LOCAL_ENTROPY_2, df_LOCAL_HOMOPHILY_2, EGOPHILY_2], f)




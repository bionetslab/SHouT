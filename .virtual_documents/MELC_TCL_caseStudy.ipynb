


import numpy as np
import pandas as pd
import pickle
import squidpy as sq
import seaborn as sns
import shout
from IPython.display import set_matplotlib_formats
import random
import scanpy as sc
import time
import pickle
import matplotlib.pyplot as plt





adata_path='/Volumes/time-mach-14pro/adataTCL_celltype_annotated.pkl'
cluster_key='celltype'


with open(adata_path, 'rb') as f:
    Pkl=pickle.load(f)


patients_good=[]
patients_bad=[]
for i in Pkl:
    adata=Pkl[i]
    try:
        start = time.time()
        shout.all_scores(adata, cluster_key=cluster_key, radius=2)
        end = time.time()
        adata.uns['SHouT_execution_time']=end-start
        print('Patient#: '+str(i))
        patients_good.append(i)
    except:
        print('Patient# '+str(i)+': Not enough cells in image to generate spatial neighbors graph')
        patients_bad.append(i)
    


Pkl


adata


adata.obs['celltype']


adata.obs['celltype']


LOCAL_ENTROPY_2={}
LOCAL_HOMOPHILY_2={}
EGOPHILY_2={}

DF=[]
for i in Pkl:
    if i not in patients_bad:
        df=pd.DataFrame()
        celltype=Pkl[i].obs['celltype']
        df['celltype']=celltype
        local_entropy_2=Pkl[i].obs['local_entropy_2']
        df['local_entropy_2']=local_entropy_2
        local_homophily_2=Pkl[i].obs['local_homophily_2']
        df['local_homophily_2']=local_homophily_2
        egophily_2=Pkl[i].obs['egophily_2']
        df['egophily_2']=egophily_2
        # ---
        df['cell_id']=Pkl[i].obs['cell_id']
        df['celltype']=Pkl[i].obs['celltype']
        df['cell_index_in_patient']=Pkl[i].to_df().index
        # ---
        df['Group']=Pkl[i].uns['Group']
        df['SHouT_execution_time']=Pkl[i].uns['SHouT_execution_time']
        df['patient_id']=Pkl[i].uns['patient_id']
        df['patient_index']=i
        # ---
        DF.append(df)
        # ---
    else:
        print('Patient# '+str(i)+' did not have enough annotated (clustered) cells to generate spatial neighborhood graph!')
DF=pd.concat(DF, axis=0)
conditions=np.unique(DF.Group)


DF


import seaborn as sns
sns.set_theme(style="ticks", palette="pastel")
# ---
f=sns.boxplot(x="Group", y="local_entropy_2",
            hue="celltype", palette='RdBu',
            data=DF)
sns.despine(offset=10, trim=True)
sns.move_legend(f.figure.axes[0], "upper left", bbox_to_anchor=(1.25, 1))


import seaborn as sns
sns.set_theme(style="ticks", palette="pastel")
# ---
f=sns.boxplot(x="Group", y="local_homophily_2",
            hue="celltype", palette='RdBu',
            data=DF)
sns.despine(offset=10, trim=True)
sns.move_legend(f.figure.axes[0], "upper left", bbox_to_anchor=(1.25, 1))


import seaborn as sns
sns.set_theme(style="ticks", palette="pastel")
# ---
f=sns.boxplot(x="Group", y="egophily_2",
            hue="celltype", palette='RdBu',
            data=DF)
sns.despine(offset=10, trim=True)
sns.move_legend(f.figure.axes[0], "upper left", bbox_to_anchor=(1.25, 1))


f = sns.jointplot(data=DF, x='local_entropy_2', y='egophily_2', hue='Group')
sns.move_legend(f.figure.axes[0], "upper left", bbox_to_anchor=(1.25, 1))


f = sns.jointplot(data=DF, x='local_entropy_2', y='local_homophily_2', hue='Group')
sns.move_legend(f.figure.axes[0], "upper left", bbox_to_anchor=(1.25, 1))


f = sns.jointplot(data=DF, x='local_homophily_2', y='egophily_2', hue='Group')
sns.move_legend(f.figure.axes[0], "upper left", bbox_to_anchor=(1.25, 1))





DF_TIME=[]
for i in patients_good:
    DF_time=DF[DF['patient_index']==i]
    df=pd.DataFrame()
    df['no. of cells in tissue']=[len(DF_time)]
    df['SHouT_execution_time']=DF_time['SHouT_execution_time'][0]
    df['patient_index']=DF_time['patient_index'][0]
    df['patient_id']=DF_time['patient_id'][0]
    DF_TIME.append(df)
DF_TIME=pd.concat(DF_TIME, axis=0)
# -----
sns.lineplot(data=DF_TIME, x="no. of cells in tissue", y="SHouT_execution_time", markers=True, dashes=False)








DF_ROBUSTNESS=[]
for i in patients_good:
    DF_rob=DF[DF['patient_index']==i]
    df=pd.DataFrame()
    df['no. of cells in tissue']=[len(DF_rob)]
    df['mean_local_entropy_2']=np.mean(DF_rob['local_entropy_2'])
    df['mean_local_homophily_2']=np.mean(DF_rob['local_homophily_2'])
    df['mean_egophily_2']=np.mean(DF_rob['egophily_2'])
    df=df.set_index('no. of cells in tissue', drop=True)
    DF_ROBUSTNESS.append(df)
DF_ROBUSTNESS=pd.concat(DF_ROBUSTNESS, axis=0)
# -----
# melted=pd.melt(DF_ROBUSTNESS)
# -----
f=sns.lineplot(data=DF_ROBUSTNESS, markers=True, dashes=False)
sns.despine(offset=10, trim=True)
sns.move_legend(f.figure.axes[0], "upper left", bbox_to_anchor=(1.25, 1))





with open('MELC_TCL_caseStudy_notebook_data.pkl', 'wb') as f:
    pickle.dump([Pkl, DF, conditions, DF_TIME, DF_ROBUSTNESS], f)








DF


DF_reset=DF.copy()
DF_reset=DF_reset.reset_index(drop=True)
celltypes_=np.unique(DF_reset.celltype)
conditions_=np.unique(DF_reset.Group)
# print(DF_reset)


DF_celltypes_dict={}
DF_celltypeIndices_dict={}
for i in celltypes_:
    df_=DF_reset[DF_reset['celltype']==i]
    DF_celltypes_dict[i]=df_
    DF_celltypeIndices_dict[i]=list(df_.index)


DF_conditions_dict={}
DF_conditionIndices_dict={}
for i in conditions_:
    df_=DF_reset[DF_reset['Group']==i]
    DF_conditions_dict[i]=df_
    DF_conditionIndices_dict[i]=list(df_.index)


condition_celltype_indices_dict={}
condition_celltype_DF_dict={}
condition_celltype_dict_dict={}
for i in conditions_:
    condition_celltype_indices_dict[i]={}
    condition_celltype_DF_dict[i]={}
    condition_celltype_dict_dict[i]={}
    for j in celltypes_:
        indices_=list(set(DF_conditionIndices_dict[i]).intersection(set(DF_celltypeIndices_dict[j])))
        condition_celltype_indices_dict[i][j]=indices_
        condition_celltype_DF_dict[i][j]=DF_reset.loc[indices_]
        condition_celltype_dict_dict[i][j]=DF_reset.loc[indices_].copy().to_dict()





DF_reset.loc[indices_]





import matlab
import matlab.engine
myEngine = matlab.engine.start_matlab()


import itertools
mwu_pvals_per_celltype={}
local_heterogeneity_measures=['local_entropy_2', 'local_homophily_2', 'egophily_2']
condition_combinations=list(itertools.combinations(conditions_, 2))
mwu_pvals_per_celltype_insignificant_index=[]
# ---
for j in celltypes_:
    mwu_pvals_per_celltype[j]={}
    for i1, i2 in condition_combinations:
        mwu_pvals_per_celltype[j][(i1, i2)]={}
        for k in local_heterogeneity_measures:
            l1=list(condition_celltype_dict_dict[i1][j][k].values())
            matList1=matlab.double(l1)
            l2=list(condition_celltype_dict_dict[i2][j][k].values())
            matList2=matlab.double(l2)
            p=myEngine.ranksum(matList1,matList2)
            mwu_pvals_per_celltype[j][(i1, i2)][k]=p
            # ---
            if p>=0.05:
                mwu_pvals_per_celltype_insignificant_index.append([j, (i1, i2), k]) 


mwu_pvals_per_celltype_insignificant_index
mwu_pvals_per_celltype_significant=mwu_pvals_per_celltype.copy()
for i1, i2, i3 in mwu_pvals_per_celltype_insignificant_index:
    del mwu_pvals_per_celltype_significant[i1][i2][i3]


with open('MELC_TCL_caseStudy_notebook_data2.pkl', 'wb') as f:
    pickle.dump([DF_reset, celltypes_, conditions_, DF_celltypes_dict, DF_celltypeIndices_dict, DF_conditions_dict, DF_conditionIndices_dict, condition_celltype_indices_dict, condition_celltype_DF_dict, condition_celltype_dict_dict, mwu_pvals_per_celltype, local_heterogeneity_measures, condition_combinations, mwu_pvals_per_celltype_insignificant_index, mwu_pvals_per_celltype_significant], f)


with open('MELC_TCL_caseStudy_notebook_data2.pkl', 'rb') as f:
    DF_reset, celltypes_, conditions_, DF_celltypes_dict, DF_celltypeIndices_dict, DF_conditions_dict, DF_conditionIndices_dict, condition_celltype_indices_dict, condition_celltype_DF_dict, condition_celltype_dict_dict, mwu_pvals_per_celltype, local_heterogeneity_measures, condition_combinations, mwu_pvals_per_celltype_insignificant_index, mwu_pvals_per_celltype_significant=pickle.load(f)





# ---
from IPython.display import set_matplotlib_formats
# set_matplotlib_formats('retina', quality=100)
import seaborn as sns
# sns.set_theme()
sns.set_theme(style="whitegrid")
# plt.rcdefaults()
import matplotlib.pyplot as plt


mwu_pvals_per_celltype_significant





def plot_local_heterogeneity_based_differential_analyses_conditionPairWise(condition1, condition2, heterogeneity_score_under_review):
    conditions_under_review=[condition1, condition2]
    cond1, cond2=sorted(conditions_under_review)
    # =====================
    count = 0
    _list_=[]
    _p_=[]
    not_present_list=[]
    for j in mwu_pvals_per_celltype_significant:
        if ((cond1, cond2) in mwu_pvals_per_celltype_significant[j]) and (heterogeneity_score_under_review in mwu_pvals_per_celltype_significant[j][(cond1, cond2)]):
            count+=1
            _list_.append(j)
            _p_.append(mwu_pvals_per_celltype_significant[j][(cond1, cond2)][heterogeneity_score_under_review])
        else:
            not_present_list.append(j)
    # ---
    _dict_=dict(zip(_list_, _p_))
    _dict_=dict(sorted(_dict_.items(), key=lambda item: item[1]))
    _list_=_dict_.keys()
    _len_=len(_list_)
    no_of_rows=int(count/2)-1
    if no_of_rows==0:
        no_of_rows=1
    # =====================
    if len(not_present_list)>0:
        str_='['
        for i in not_present_list:
            str_=str_+str(i)+', '
        str_ = str_[:-2 or None]
        str_+='] cells do not show significant ' + f'{heterogeneity_score_under_review} scores between conditions {cond1} and {cond2}.'
    # =====================
    fig = plt.figure(layout="constrained", figsize=(15, 15))
    _title_=f'{heterogeneity_score_under_review} scores of significantly differentiated cell types (p<0.05)\n'+f'({cond1} vs {cond2})\n'
    fig.suptitle(_title_, fontsize=12)
    ax_array = fig.subplots(no_of_rows,3, squeeze=False)
    ax_arrays=[]
    # ---
    count=-1
    count_outer=-1
    count_inner=-1
    for i in _list_:
        DF=[]
        _DF1_=pd.DataFrame()
        _DF1_[heterogeneity_score_under_review]=condition_celltype_dict_dict[cond1][i][heterogeneity_score_under_review].values()
        _DF1_['celltype']=i
        _DF1_['condition']=cond1
        DF.append(_DF1_)
        _DF2_=pd.DataFrame()
        _DF2_[heterogeneity_score_under_review]=condition_celltype_dict_dict[cond2][i][heterogeneity_score_under_review].values()
        _DF2_['celltype']=i
        _DF2_['condition']=cond2
        DF.append(_DF2_)
        DF=pd.concat(DF, axis=0)
        # ---
        if((float(count+1)%float(3))==0):
            count_outer+=1
            count_inner=-1
        # ---
        count+=1
        count_inner+=1
        print(count, count_outer, count_inner)
        # ---
        xlabel='\nCondition'
        _str_=f'n({i})'
        ylabel='Neighborhood enrichment score\n'
        # ---
        sns.boxplot(x="celltype", y=heterogeneity_score_under_review, hue="condition", data=DF, ax=ax_array[count_outer, count_inner])
        # ---
        _x_=round(mwu_pvals_per_celltype_significant[i][(cond1, cond2)][heterogeneity_score_under_review],5)
        title=f'{i}('+'${{p}_{MWU}=}$'+f'{_x_}'+')'
        ax_array[count_outer, count_inner].set_title(title)
        # ---
        ax_array[count_outer, count_inner].set_xlabel('')
        # axes.set_ylabel(ylabel,fontsize=50)
        ax_array[count_outer, count_inner].set_ylabel('')
        # ---
        handles, labels = ax_array[count_outer, count_inner].get_legend_handles_labels()
        ax_array[count_outer, count_inner].legend(handles=handles[::-1], labels=[cond1, cond2])
        # ---
        ax_arrays.append(ax_array[count_outer, count_inner])
        # ==================================
    fig.tight_layout()
    plt.savefig(f'boxplot_significant_{heterogeneity_score_under_review}_scores_{cond1}vs{cond2}.jpg', format='jpg', bbox_inches='tight')
    plt.show()
    plt.close()
    # ---


condition_celltype_DF_dict

DF_local_heterogeneity_scores=[]
for i in condition_celltype_DF_dict:
    df_=[]
    for j in condition_celltype_DF_dict[i]:
        df_.append(condition_celltype_DF_dict[i][j])
    df_=pd.concat(df_, axis=0)
    df_['condition']=i
    DF_local_heterogeneity_scores.append(df_)
DF_local_heterogeneity_scores=pd.concat(DF_local_heterogeneity_scores, axis=0)

DF_local_heterogeneity_scores


print(condition_combinations)
# ---
mwu_pvals_per_celltype


def plot_local_heterogeneity_based_differential_analyses_cumulative(heterogeneity_score_under_review):
    df=DF_local_heterogeneity_scores.copy()
    # ---
    celltypes=list(np.unique(df.celltype))
    no_of_celltypes=len(celltypes)
    no_of_rows=int(no_of_celltypes/2)-1
    if no_of_rows==0:
        no_of_rows=1
    # ---
    
        
    # ---
    fig = plt.figure(layout="constrained", figsize=(15, 15))
    # # _title_=f'{heterogeneity_score_under_review} scores of significantly differentiated cell types (p<0.05)\n'+f'({cond1} vs {cond2})\n'
    # # fig.suptitle(_title_, fontsize=12)
    ax_array = fig.subplots(no_of_rows,3, squeeze=False)
    ax_arrays=[]
    # ---
    count=-1
    count_outer=-1
    count_inner=-1
    for i in celltypes:
        df_=df[df['celltype']==i]
        # ==================================
        pvals_=[]
        for j in condition_combinations:
            pvals_.append(str(mwu_pvals_per_celltype[i][j][heterogeneity_score_under_review]))
        condComb_pval_dict=dict(zip(condition_combinations, pvals_))
        # ==================================
        pairs=condition_combinations
        # ==================================
        # ---
        if((float(count+1)%float(3))==0):
            count_outer+=1
            count_inner=-1
        # ---
        count+=1
        count_inner+=1
        print(count, count_outer, count_inner)
        # ---
        xlabel='\nCondition'
        _str_=f'n({i})'
        ylabel='Neighborhood enrichment score\n'
        # ---
        ax=sns.boxplot(x="celltype", y=heterogeneity_score_under_review, hue="condition", data=df_, ax=ax_array[count_outer, count_inner])
        # ---
        from statannotations.Annotator import Annotator
        annot = Annotator(ax, pairs, data=df_, x="condition", y=heterogeneity_score_under_review)
        annot.new_plot(ax, pairs=pairs, data=df_, x="condition", y=heterogeneity_score_under_review)
        annot.configure(loc='outside', comparisons_correction=None,)
        annot.set_custom_annotations(pvals_)
        annot.annotate()
        # ---
        # # _x_=round(mwu_pvals_per_celltype_significant[i][(cond1, cond2)][heterogeneity_score_under_review],5)
        # # title=f'{i}('+'${{p}_{MWU}=}$'+f'{_x_}'+')'
        # # ax_array[count_outer, count_inner].set_title(title)
        # ---
        ax_array[count_outer, count_inner].set_xlabel('')
        ax_array[count_outer, count_inner].set_ylabel('')
        # ---
        handles, labels = ax_array[count_outer, count_inner].get_legend_handles_labels()
        # # ax_array[count_outer, count_inner].legend(handles=handles[::-1], labels=[cond1, cond2])
        # ---
        ax_arrays.append(ax_array[count_outer, count_inner])
        # ================================== 
    fig.tight_layout()
    plt.savefig(f'boxplot_significant_{heterogeneity_score_under_review}_allCellTypes_allConditions.jpg', format='jpg', bbox_inches='tight')
    plt.show()
    plt.close()














plot_local_heterogeneity_based_differential_analyses_conditionPairWise('T-Cell Lymphoma', 'Eczema', 'local_entropy_2')





plot_local_heterogeneity_based_differential_analyses_conditionPairWise('T-Cell Lymphoma', 'Eczema', 'local_homophily_2')





plot_local_heterogeneity_based_differential_analyses_conditionPairWise('T-Cell Lymphoma', 'Eczema', 'egophily_2')








plot_local_heterogeneity_based_differential_analyses_conditionPairWise('T-Cell Lymphoma', 'Psoriasis', 'local_entropy_2')





plot_local_heterogeneity_based_differential_analyses_conditionPairWise('T-Cell Lymphoma', 'Psoriasis', 'local_homophily_2')





plot_local_heterogeneity_based_differential_analyses_conditionPairWise('T-Cell Lymphoma', 'Psoriasis', 'egophily_2')








plot_local_heterogeneity_based_differential_analyses_conditionPairWise('Eczema', 'Psoriasis', 'local_entropy_2')





plot_local_heterogeneity_based_differential_analyses_conditionPairWise('Eczema', 'Psoriasis', 'local_homophily_2')





plot_local_heterogeneity_based_differential_analyses_conditionPairWise('Eczema', 'Psoriasis', 'egophily_2')











plot_local_heterogeneity_based_differential_analyses_cumulative('local_entropy_2')


mwu_pvals_per_celltype[i][j][heterogeneity_score_under_review]


j


def annot_stat(star, x1, x2, y, h, col='k', ax=None):
    ax = plt.gca() if ax is None else ax
    ax.plot([x1, x1, x2, x2], [y, y+h, y+h, y], lw=1.5, c=col)
    ax.text((x1+x2)*.5, y+h, star, ha='center', va='bottom', color=col)
    
zero = pd.DataFrame({'Number of Research Years': [0,1,2], 
                     'Total Publications': 100*np.random.random(size=3),
                     'Publications During Residency': 100*np.random.random(size=3),
                     'Publications Before & After Residency': 100*np.random.random(size=3), 
                     'H Index': 10*np.random.random(size=3)})

fig, axes = plt.subplots(2, 2, sharex= False, sharey= True, figsize=(8,8))

ax1= sns.barplot(ax=axes[0,0], x= zero['Number of Research Years'], y= zero['Total Publications'])
ax2= sns.barplot(ax=axes[0,1], x= zero['Number of Research Years'], y= zero['Publications During Residency'])
ax3= sns.barplot(ax=axes[1,0], x= zero['Number of Research Years'], y= zero['Publications Before & After Residency'])
ax4= sns.barplot(ax=axes[1,1], x= zero['Number of Research Years'], y= zero['H Index'])

ax1.text(0.05, 0.95, "A", fontweight="bold", transform=ax1.transAxes)
ax2.text(0.05, 0.95, "B", fontweight="bold", transform=ax2.transAxes)
ax3.text(0.05, 0.95, "C", fontweight="bold", transform=ax3.transAxes)
ax4.text(0.05, 0.95, "D", fontweight="bold", transform=ax4.transAxes)

annot_stat('*', 1, 2, 100, 5, ax=ax1)
annot_stat('***', 0, 2, 120, 5, ax=ax1)

annot_stat('*', 1, 2, 100, 5, ax=ax2)
annot_stat('***', 0, 2, 120, 5, ax=ax2)

annot_stat('*', 1, 2, 100, 5, ax=ax3)
annot_stat('***', 0, 2, 120, 5, ax=ax3)

annot_stat('***', 1, 2, 10, 5, ax=ax4)
annot_stat('*', 0, 2, 20, 5, ax=ax4)


sns.despine()
plt.show()





df = sns.load_dataset("iris")
x = "species"
y = "sepal_length"

pairs = [("setosa", "versicolor"), ("setosa", "virginica"), ("versicolor", "virginica")]



from scipy.stats import bartlett

test_short_name = 'Bartlett'
pvalues = []
for pair in pairs:
    data1 = df.groupby(x)[y].get_group(pair[0])
    data2 = df.groupby(x)[y].get_group(pair[1])
    stat, p = bartlett(data1, data2)
    print("Performing Bartlett statistical test for equal variances on pair:",
          pair, "stat={:.2e} p-value={:.2e}".format(stat, p))
    pvalues.append(p)
print("pvalues:", pvalues)


from statannotations.Annotator import Annotator
annot = Annotator(ax, [("Thur", "Fri"), ("Thur", "Sat"), ("Fri", "Sun")], data=df, x=x, y=y, order=order)
ax = sns.boxplot(data=df, x=x, y=y)
annot.new_plot(ax=ax, pairs=pairs,
               data=df, x=x, y=y)
(annot
 .configure(test=None, test_short_name=test_short_name)
 .set_pvalues(pvalues=pvalues)
 .annotate())
plt.show()


df = sns.load_dataset("tips")
x = "day"
y = "total_bill"
order = ['Sun', 'Thur', 'Fri', 'Sat']

ax = sns.boxplot(data=df, x=x, y=y, order=order)

pairs=[("Thur", "Fri"), ("Thur", "Sat"), ("Fri", "Sun")]

annotator = Annotator(ax, pairs, data=df, x=x, y=y, order=order)
annotator.configure(test=None, text_format='star', loc='outside')
annotator.set_pvalues(pvalues=pvalues)
# annotator.apply_and_annotate()
annotator.annotate()
plt.show()


df = sns.load_dataset("tips")
x = "day"
y = "total_bill"
hue = "smoker"
pairs = [(("Thur", "No"), ("Fri", "No")),
         (("Sat", "Yes"), ("Sat", "No")),
         (("Sun", "No"), ("Thur", "Yes"))]
ax = sns.boxplot(data=df, x=x, y=y, hue=hue)
annot.new_plot(ax, pairs,
               data=df, x=x, y=y, hue=hue)
annot.configure(test='t-test_ind', text_format='full', loc='inside',
                comparisons_correction=None, line_height=0.05, text_offset=8)

annot.apply_test().annotate(line_offset_to_group=0.2, line_offset=0.1)

plt.legend(loc='upper left', bbox_to_anchor=(1.03, 1))
plt.savefig('example_tuning_y_offsets.svg')
plt.savefig('example_tuning_y_offsets.png', dpi=300, bbox_inches='tight')


import seaborn as sns

from statannotations.Annotator import Annotator


df = sns.load_dataset("tips")
x = "day"
y = "total_bill"
order = ['Sun', 'Thur', 'Fri', 'Sat']
ax = sns.boxplot(data=df, x=x, y=y, order=order)
annot.new_plot(ax, pairs=[("Thur", "Fri"),("Thur", "Sat"), ("Fri", "Sun")], data=df, x=x, y=y, order=order)
annot.configure(loc='outside', comparisons_correction=None,)
annot.set_custom_annotations(["first pair", "second pair", "third pair"])
annot.annotate()

plt.savefig('example_custom_text_annot.png', dpi=300, bbox_inches='tight')


plotting_parameters = {
    'data':    df,
    'x':       x,
    'y':       y
}

pairs = [('Robots', 'Flight'),
         ('Flight', 'Sound'),
         ('Robots', 'Sound')]

with sns.plotting_context('notebook', font_scale = 1.4):
    # Create new plot
    # ax = get_log_ax()

    # Plot with seaborn
    sns.boxplot(**plotting_parameters)

    # Add annotations
    annotator = Annotator(ax, pairs, **plotting_parameters)
    annotator.set_custom_annotations(formatted_pvalues)
    annotator.annotate()

    # Label and show
    label_plot_for_subcats(ax)
    plt.show()


df = sns.load_dataset("tips")
x = "day"
y = "total_bill"
hue = "smoker"
pairs = [(("Thur", "No"), ("Fri", "No")),
         (("Sat", "Yes"), ("Sat", "No")),
         (("Sun", "No"), ("Thur", "Yes"))]
ax = sns.boxplot(data=df, x=x, y=y, hue=hue)
annot.new_plot(ax, pairs,
               data=df, x=x, y=y, hue=hue)
annot.configure(test='t-test_ind', text_format='full', loc='inside',
                comparisons_correction=None, line_height=0.05, text_offset=8)

annot.apply_test().annotate(line_offset_to_group=0.2, line_offset=0.1)

plt.legend(loc='upper left', bbox_to_anchor=(1.03, 1))
plt.savefig('example_tuning_y_offsets.svg')
plt.savefig('example_tuning_y_offsets.png', dpi=300, bbox_inches='tight')




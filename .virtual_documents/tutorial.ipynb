





import squidpy as sq
import seaborn as sns
import shout
import pandas as pd
from IPython.display import set_matplotlib_formats
import matplotlib.pyplot as plt


mibitof = sq.datasets.mibitof()
seqfish = sq.datasets.seqfish()





%%time
shout.all_scores(mibitof, cluster_key='Cluster', radius=2)


sns.jointplot(data=mibitof.obs, x='local_entropy_2', y='local_homophily_2', hue='Cluster')





sns.jointplot(data=mibitof.obs, x='local_entropy_2', y='egophily_2', hue='Cluster')


sns.jointplot(data=mibitof.obs, x='local_homophily_2', y='egophily_2', hue='Cluster')








%%time
scores_seqfish = shout.all_scores(seqfish, cluster_key='celltype_mapped_refined', radius=2)


f = sns.jointplot(data=seqfish.obs, x='local_entropy_2', y='local_homophily_2', hue='celltype_mapped_refined')
sns.move_legend(f.figure.axes[0], "upper left", bbox_to_anchor=(1.25, 1))


f = sns.jointplot(data=seqfish.obs, x='local_entropy_2', y='egophily_2', hue='celltype_mapped_refined')
sns.move_legend(f.figure.axes[0], "upper left", bbox_to_anchor=(1.25, 1))


f = sns.jointplot(data=seqfish.obs, x='local_homophily_2', y='egophily_2', hue='celltype_mapped_refined')
sns.move_legend(f.figure.axes[0], "upper left", bbox_to_anchor=(1.25, 1))








# --- Imports: ---
import time
# ---- Code: ----
runtimes={}
n=[1, 5, 10, 20, 40, 80, 100]

for _count_ in range (50):
    count=0
    for i in n:
        print('Iteration '+str(_count_+1)+', i= '+str(i))
        # ---
        start = time.time()
        scores_mibitof = shout.all_scores(mibitof, cluster_key='Cluster', radius=2)
        end = time.time()
        try:
            runtimes[i].append(end-start)
        except:
            runtimes[i]=[]
            runtimes[i].append(end-start)


runtimes_df=pd.DataFrame.from_dict(runtimes)
print(list(runtime_df.columns))
print(runtime_df.head())


sns.set_theme(style="whitegrid", palette="muted")
fig, axes = plt.subplots(figsize=(6, 6), facecolor='w', edgecolor='k')
fig.subplots_adjust(hspace = .5, wspace=.001)
df_melted=pd.melt(runtimes_df)
ax=sns.boxplot(x = 'variable', y = 'value', data = df_melted, ax=axes, orient='v')
title=f'Robustness over 50 iterations'
xlabel="Radius ($r$)"
ylabel="Runtime (sec)"
axes.set_title(title)
axes.set_xlabel(xlabel)
axes.set_ylabel(ylabel)
fig.tight_layout()
plt.savefig(f'Boxplot_Robustness_MIBITOF.pdf', format='pdf', bbox_inches='tight')
plt.show()
plt.close()


runtimes_mibitof=runtimes.copy()
runtimes_df_mibitof=runtimes_df.copy()
df_melted_mibitof=df_melted.copy()


import pickle
# ---
with open('tutorial_notebook_mibitof_data.pkl', 'wb') as f:
    pickle.dump([mibitof, runtimes_mibitof, runtimes_df_mibitof, df_melted_mibitof], f)


import numpy as np
import matplotlib.pyplot as plt
from IPython.display import set_matplotlib_formats
import seaborn as sns
sns.set_theme(style="whitegrid", palette="muted")
from PIL import Image
import matplotlib.image as mpimg


import matlab
import matlab.engine
myEngine = matlab.engine.start_matlab()





# --- Imports: ---
import time
# ---- Code: ----
runtimes={}
# n=[1, 5, 10, 20, 40, 80, 100]
n=[5, 25, 50, 75, 100]

for _count_ in range (25):
    count=0
    for i in n:
        print('Iteration '+str(_count_+1)+', i= '+str(i))
        # ---
        start = time.time()
        scores_seqfish = shout.all_scores(seqfish, cluster_key='celltype_mapped_refined', radius=2)
        end = time.time()
        try:
            runtimes[i].append(end-start)
        except:
            runtimes[i]=[]
            runtimes[i].append(end-start)
        


runtimes_df=pd.DataFrame.from_dict(runtimes)
print(list(runtimes_df.columns))
print(runtimes_df.head())


sns.set_theme(style="whitegrid", palette="muted")
fig, axes = plt.subplots(figsize=(6, 6), facecolor='w', edgecolor='k')
fig.subplots_adjust(hspace = .5, wspace=.001)
df_melted=pd.melt(runtimes_df)
ax=sns.boxplot(x = 'variable', y = 'value', data = df_melted, ax=axes, orient='v')
title=f'Robustness over 25 iterations'
xlabel="Radius ($r$)"
ylabel="Runtime (sec)"
axes.set_title(title)
axes.set_xlabel(xlabel)
axes.set_ylabel(ylabel)
fig.tight_layout()
plt.savefig(f'Boxplot_Robustness_MIBITOF.pdf', format='pdf', bbox_inches='tight')
plt.show()
plt.close()


runtimes_seqfish=runtimes.copy()
runtimes_df_seqfish=runtimes_df.copy()
df_melted_seqfish=df_melted.copy()


import pickle
with open('tutorial_notebook_seqfish_data.pkl', 'wb') as f:
    pickle.dump([seqfish, runtimes_seqfish, runtimes_df_seqfish, df_melted_seqfish], f)








def rgb2gray(rgb):
    return np.dot(rgb[...,:3], [0.299, 0.587, 0.144])
    # # r, g, b = rgb[:,:,0], rgb[:,:,1], rgb[:,:,2]
    # # gray = 0.2989 * r + 0.5870 * g + 0.1140 * b
    # # return gray


gray_img = rgb2gray(mibitof.uns['spatial']['point16']['images']['hires'])
# plt.imshow(img_gray, cmap=plt.get_cmap('gray'))
# plt.show()

plt.imshow(gray_img, cmap=plt.cm.gray)
# plt.imshow()


fig, axes=plt.subplots()
print(np.shape(mibitof.uns['spatial']['point16']['images']['hires']))
# arr = np.asarray(mibitof.uns['spatial']['point16']['images']['hires'])/2
arr = np.array(mibitof.uns['spatial']['point16']['images']['hires'])
print(arr)
# arr=matlab.double(arr)
# img=myEngine.rgb2gray(arr)
arr=np.mean(arr, axis=2)
# plt.imshow(mibitof.uns['spatial']['point16']['images']['hires'][:,:,0], cmap=plt.get_cmap('gray'))
# plt.imshow(np.asarray(mibitof.uns['spatial']['point16']['images']['hires'])[:,:,0], cmap=plt.get_cmap('gray'))
plt.imshow(arr, cmap=plt.get_cmap('gray')) #cmap='gray', vmin=0, vmax=255
# plt.imshow(img, cmap=plt.get_cmap('gray'))
_str_='Nuclei (mibitof data)'
# x=[]
# y=[]
# cell_coords=[]
# for key, value in pickle_[i].uns['cell_coordinates'].items():
    # x
    # axes.scatter(np.mean(value[1]),np.mean(value[0]),label=key, s=2)
# axes.scatter(mibitof.obsm['spatial'][0],mibitof.obsm['spatial'][1],s=2)
plt.title(_str_)
plt.show()
plt.close()


DF_seqfish=mibitof.obs.copy()
DF_seqfish['cell_index']=list(DF_seqfish.index)
for i in list(mibitof.obsm.keys()):
    _str_='obsm_'+i
    DF_seqfish[_str_]=list(mibitof.obsm[i])
    if i=='spatial':
        df_=pd.DataFrame(mibitof.obsm['spatial'])
        DF_seqfish['x']=list(df_[0])
        DF_seqfish['y']=list(df_[1])
for i in list(mibitof.obsp.keys()):
    _str_='obsp_'+i
    DF_seqfish[_str_]=list(mibitof.obsp[i])


tissue_image=np.array(mibitof.uns['spatial']['point16']['images']['hires'])
plt.imshow(tissue_image)


tissue_image_gray=np.mean(tissue_image, axis=2)
plt.imshow(tissue_image_gray, cmap='gray')


local_heterogeneity_measure='local_entropy_2'
# =====
from IPython.display import set_matplotlib_formats
import seaborn as sns
sns.set_theme(style="whitegrid", palette="muted")
# ---
sns.set_style("whitegrid", {'axes.grid' : False})
# fig, (axes1, axes2) = plt.subplots(1,2)
layout = [["A"], ["B"]]
fig, axes = plt.subplot_mosaic(layout, figsize=(10,10))
# # plt.suptitle(f"\nPatient#{i} (condition: {_label_})", x=0.40, y=1.00)
axes["A"].imshow(tissue_image_gray, cmap='gray')
# ---
xlabel='x'
ylabel='y'
ax = sns.scatterplot(ax=axes["A"], data=DF_seqfish, x="x", y="y", hue=local_heterogeneity_measure, palette='RdBu', s=30)
ax.set(xlabel=xlabel, ylabel=ylabel, title=f'Local heterogeneity score')
# ax.invert_yaxis()
axes["A"].tick_params(left=False, bottom=False)
# ---
# norm = plt.Normalize(df_coords['local_heterogeneity_score'].min(), df_coords['local_heterogeneity_score'].max())
norm = plt.Normalize(0, 1)
sm = plt.cm.ScalarMappable(cmap="RdBu", norm=norm)
sm.set_array([])
# Remove the legend and add a colorbar
ax.get_legend().remove()
# ax.figure.colorbar(sm, location = 'right')
cax_=fig.add_axes([0.1, 0.6, 0.03, 0.3])
ax.figure.colorbar(sm, cax=cax_)
# ========== X ==========
# ---
sns.set_style("whitegrid", {'axes.grid' : False})
# fig, axes = plt.subplots()
axes["B"].imshow(tissue_image_gray, cmap='gray')
# ---
xlabel='x'
ylabel='y'
ax = sns.scatterplot(ax=axes["B"], data=DF_seqfish, x="x", y="y", hue="Cluster", palette='Set3', s=30)
ax.set(xlabel=xlabel, ylabel=ylabel, title=f'Cell types')
# ax.invert_yaxis()
axes["B"].tick_params(left=False, bottom=False)
# ---
sns.move_legend(axes["B"], "upper left", bbox_to_anchor=(-1.0, .8), title='Cell types')
        # ---
        # # ---
        # # norm = plt.Normalize(df_coords['local_heterogeneity_score'].min(), df_coords['local_heterogeneity_score'].max())
        # norm = plt.Normalize(0, 1)
        # sm = plt.cm.ScalarMappable(cmap="RdBu", norm=norm)
        # sm.set_array([])
        # # Remove the legend and add a colorbar
        # ax.get_legend().remove()
        # ax.figure.colorbar(sm)
        # # ---
plt.xticks([])
plt.yticks([])
fig.tight_layout()
# # plt.savefig(f'{_label_}\Patient#{i} (condition: {_label_}).pdf', format='pdf', bbox_inches='tight')
plt.show()
plt.close()
# =====







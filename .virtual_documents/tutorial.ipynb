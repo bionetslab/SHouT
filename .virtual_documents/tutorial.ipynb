





import squidpy as sq
import seaborn as sns
import shout


mibitof = sq.datasets.mibitof()
seqfish = sq.datasets.seqfish()





%%time
shout.all_scores(mibitof, cluster_key='Cluster', radius=2)


sns.jointplot(data=mibitof.obs, x='local_entropy_2', y='local_homophily_2', hue='Cluster')





sns.jointplot(data=mibitof.obs, x='local_entropy_2', y='egophily_2', hue='Cluster')


sns.jointplot(data=mibitof.obs, x='local_homophily_2', y='egophily_2', hue='Cluster')








%%time
scores_seqfish = shout.all_scores(seqfish, cluster_key='celltype_mapped_refined', radius=2)


f = sns.jointplot(data=seqfish.obs, x='local_entropy_2', y='local_homophily_2', hue='celltype_mapped_refined')
sns.move_legend(f.figure.axes[0], "upper left", bbox_to_anchor=(1.25, 1))


f = sns.jointplot(data=seqfish.obs, x='local_entropy_2', y='egophily_2', hue='celltype_mapped_refined')
sns.move_legend(f.figure.axes[0], "upper left", bbox_to_anchor=(1.25, 1))


f = sns.jointplot(data=seqfish.obs, x='local_homophily_2', y='egophily_2', hue='celltype_mapped_refined')
sns.move_legend(f.figure.axes[0], "upper left", bbox_to_anchor=(1.25, 1))











n=[1, 5, 10, 20, 40, 80, 100]
# count=-1
# for i in n:
    # count+=1
    # for j in r







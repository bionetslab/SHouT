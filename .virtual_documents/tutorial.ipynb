





import squidpy as sq
import seaborn as sns
import shout
import pandas as pd
from IPython.display import set_matplotlib_formats
import matplotlib.pyplot as plt


mibitof = sq.datasets.mibitof()
seqfish = sq.datasets.seqfish()





%%time
shout.all_scores(mibitof, cluster_key='Cluster', radius=2)


sns.jointplot(data=mibitof.obs, x='local_entropy_2', y='local_homophily_2', hue='Cluster')





sns.jointplot(data=mibitof.obs, x='local_entropy_2', y='egophily_2', hue='Cluster')


sns.jointplot(data=mibitof.obs, x='local_homophily_2', y='egophily_2', hue='Cluster')








%%time
scores_seqfish = shout.all_scores(seqfish, cluster_key='celltype_mapped_refined', radius=2)


f = sns.jointplot(data=seqfish.obs, x='local_entropy_2', y='local_homophily_2', hue='celltype_mapped_refined')
sns.move_legend(f.figure.axes[0], "upper left", bbox_to_anchor=(1.25, 1))


f = sns.jointplot(data=seqfish.obs, x='local_entropy_2', y='egophily_2', hue='celltype_mapped_refined')
sns.move_legend(f.figure.axes[0], "upper left", bbox_to_anchor=(1.25, 1))


f = sns.jointplot(data=seqfish.obs, x='local_homophily_2', y='egophily_2', hue='celltype_mapped_refined')
sns.move_legend(f.figure.axes[0], "upper left", bbox_to_anchor=(1.25, 1))














# --- Imports: ---
import time
# ---- Code: ----
runtimes={}
n=[1, 5, 10, 20, 40, 80, 100]

for _count_ in range (50):
    count=0
    for i in n:
        print('Iteration '+str(_count_+1)+', i= '+str(i))
        # ---
        start = time.time()
        scores_mibitof = shout.all_scores(mibitof, cluster_key='Cluster', radius=2)
        end = time.time()
        try:
            runtimes[i].append(end-start)
        except:
            runtimes[i]=[]
            runtimes[i].append(end-start)


runtimes_df=pd.DataFrame.from_dict(runtimes)
print(list(runtime_df.columns))
print(runtime_df.head())


sns.set_theme(style="whitegrid", palette="muted")
fig, axes = plt.subplots(figsize=(6, 6), facecolor='w', edgecolor='k')
fig.subplots_adjust(hspace = .5, wspace=.001)
df_melted=pd.melt(runtimes_df)
ax=sns.boxplot(x = 'variable', y = 'value', data = df_melted, ax=axes, orient='v')
title=f'Robustness over 50 iterations'
xlabel="Radius ($r$)"
ylabel="Runtime (sec)"
axes.set_title(title)
axes.set_xlabel(xlabel)
axes.set_ylabel(ylabel)
fig.tight_layout()
plt.savefig(f'Boxplot_Robustness_MIBITOF.pdf', format='pdf', bbox_inches='tight')
plt.show()
plt.close()





runtimes={}
# n=[1, 5, 10, 20, 40, 80, 100]
n=[5, 25, 50, 75, 100]

for _count_ in range (1):
    count=0
    for i in n:
        print('Iteration '+str(_count_+1)+', i= '+str(i))
        # ---
        start = time.time()
        scores_seqfish = shout.all_scores(seqfish, cluster_key='celltype_mapped_refined', radius=2)
        end = time.time()
        try:
            runtimes[i].append(end-start)
        except:
            runtimes[i]=[]
            runtimes[i].append(end-start)
        







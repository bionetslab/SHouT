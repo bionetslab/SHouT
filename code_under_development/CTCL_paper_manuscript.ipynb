{
 "cells": [
  {
   "cell_type": "markdown",
   "id": "7b9ff067-df3c-4f0a-b754-cca1ddccd31f",
   "metadata": {},
   "source": [
    "# Local heterogeneity measures differentiate cutaneous T-cell lymphoma, psoriasis and eczema based on spatial protein expression "
   ]
  },
  {
   "cell_type": "markdown",
   "id": "60950185-99b3-405d-88db-ff51320563d6",
   "metadata": {},
   "source": [
    "## 1. Introduction"
   ]
  },
  {
   "cell_type": "markdown",
   "id": "e88d3e1c-973f-474e-9713-57d02b43399a",
   "metadata": {},
   "source": [
    "## 2. Results"
   ]
  },
  {
   "cell_type": "markdown",
   "id": "1aa1ba1f-65ee-46ee-a014-f169d5accd12",
   "metadata": {},
   "source": [
    "### 2.1 Spatial analyses"
   ]
  },
  {
   "cell_type": "markdown",
   "id": "43144a5c-e4cc-4e16-ada7-d18ca2274d60",
   "metadata": {},
   "source": [
    "Figure 1 depicts the neighborhood enrichment across cutaneous T-celll lymphoma (CTCL) and eczema patients. As can be observed from figure 1, T cells show the highest differential neighborhood enrichment with endothelial cells, Langerhans cells, suprabasal keratinocytes, and 'Unknown' cells (cells that have not been assigned a cell type by our HPA-based approach.\n",
    "\n",
    "T cells and endothelial cells exhibit strong differenial signals in terms of centrality measures, between CTCL and eczema patients (see figure 2, and supplementary figure S_fig 1).  "
   ]
  },
  {
   "cell_type": "markdown",
   "id": "1d731fd1-f20c-4209-87bc-9b6bbc26200a",
   "metadata": {},
   "source": [
    "![boxplot_SignificantneighborhoodEnrichmentScores_EczemavsTCL.jpg](boxplot_SignificantneighborhoodEnrichmentScores_EczemavsTCL.jpg)\n",
    "\n",
    "Fig 1. Neighborhood enrichment scores of significantly differentiated (p<0.05)  cell type pairs between TCL and Eczema patients"
   ]
  },
  {
   "cell_type": "code",
   "execution_count": null,
   "id": "6685d210-c356-4a03-996f-36a15e7be7f4",
   "metadata": {},
   "outputs": [],
   "source": []
  },
  {
   "cell_type": "markdown",
   "id": "10acc808-a6f4-442d-b01a-edd27d48673a",
   "metadata": {},
   "source": [
    "![boxplot_DA_SignificantClosenessCentralityScores_EczemavsTCL.jpg](boxplot_DA_SignificantClosenessCentralityScores_EczemavsTCL.jpg)\n",
    "\n",
    "Fig 2. Closeness centrality scores of significantly differentiated (p<0.05) cell types between TCL and Eczema patients"
   ]
  },
  {
   "cell_type": "markdown",
   "id": "bcd26137-ef01-49ac-986a-fcd79092c07f",
   "metadata": {},
   "source": []
  },
  {
   "cell_type": "code",
   "execution_count": null,
   "id": "a9e5c187-48cc-444a-ae89-cf8478a8dd8c",
   "metadata": {},
   "outputs": [],
   "source": []
  }
 ],
 "metadata": {
  "kernelspec": {
   "display_name": "Python 3 (ipykernel)",
   "language": "python",
   "name": "python3"
  },
  "language_info": {
   "codemirror_mode": {
    "name": "ipython",
    "version": 3
   },
   "file_extension": ".py",
   "mimetype": "text/x-python",
   "name": "python",
   "nbconvert_exporter": "python",
   "pygments_lexer": "ipython3",
   "version": "3.10.12"
  }
 },
 "nbformat": 4,
 "nbformat_minor": 5
}

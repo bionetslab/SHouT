{
 "cells": [
  {
   "cell_type": "code",
   "execution_count": 1,
   "metadata": {
    "pycharm": {
     "is_executing": true,
     "name": "#%%\n"
    }
   },
   "outputs": [],
   "source": [
    "import squidpy as sq"
   ]
  },
  {
   "cell_type": "code",
   "execution_count": 2,
   "metadata": {
    "pycharm": {
     "name": "#%%\n"
    }
   },
   "outputs": [
    {
     "data": {
      "application/vnd.jupyter.widget-view+json": {
       "model_id": "baea1011f36f4082943bbc9096199b7f",
       "version_major": 2,
       "version_minor": 0
      },
      "text/plain": [
       "  0%|          | 0.00/19.3M [00:00<?, ?B/s]"
      ]
     },
     "metadata": {},
     "output_type": "display_data"
    },
    {
     "name": "stderr",
     "output_type": "stream",
     "text": [
      "/Users/dbblumenthal/opt/anaconda3/envs/shout/lib/python3.10/site-packages/anndata/__init__.py:51: FutureWarning: `anndata.read` is deprecated, use `anndata.read_h5ad` instead. `ad.read` will be removed in mid 2024.\n",
      "  warnings.warn(\n"
     ]
    }
   ],
   "source": [
    "adata = sq.datasets.mibitof()"
   ]
  },
  {
   "cell_type": "code",
   "execution_count": 9,
   "metadata": {
    "pycharm": {
     "name": "#%%\n"
    }
   },
   "outputs": [
    {
     "data": {
      "text/html": [
       "<div>\n",
       "<style scoped>\n",
       "    .dataframe tbody tr th:only-of-type {\n",
       "        vertical-align: middle;\n",
       "    }\n",
       "\n",
       "    .dataframe tbody tr th {\n",
       "        vertical-align: top;\n",
       "    }\n",
       "\n",
       "    .dataframe thead th {\n",
       "        text-align: right;\n",
       "    }\n",
       "</style>\n",
       "<table border=\"1\" class=\"dataframe\">\n",
       "  <thead>\n",
       "    <tr style=\"text-align: right;\">\n",
       "      <th></th>\n",
       "      <th>row_num</th>\n",
       "      <th>point</th>\n",
       "      <th>cell_id</th>\n",
       "      <th>X1</th>\n",
       "      <th>center_rowcoord</th>\n",
       "      <th>center_colcoord</th>\n",
       "      <th>cell_size</th>\n",
       "      <th>category</th>\n",
       "      <th>donor</th>\n",
       "      <th>Cluster</th>\n",
       "      <th>batch</th>\n",
       "      <th>library_id</th>\n",
       "    </tr>\n",
       "  </thead>\n",
       "  <tbody>\n",
       "    <tr>\n",
       "      <th>3034-0</th>\n",
       "      <td>3086</td>\n",
       "      <td>23</td>\n",
       "      <td>2</td>\n",
       "      <td>60316.0</td>\n",
       "      <td>269.0</td>\n",
       "      <td>7.0</td>\n",
       "      <td>408.0</td>\n",
       "      <td>carcinoma</td>\n",
       "      <td>21d7</td>\n",
       "      <td>Epithelial</td>\n",
       "      <td>0</td>\n",
       "      <td>point23</td>\n",
       "    </tr>\n",
       "    <tr>\n",
       "      <th>3035-0</th>\n",
       "      <td>3087</td>\n",
       "      <td>23</td>\n",
       "      <td>3</td>\n",
       "      <td>60317.0</td>\n",
       "      <td>294.0</td>\n",
       "      <td>6.0</td>\n",
       "      <td>408.0</td>\n",
       "      <td>carcinoma</td>\n",
       "      <td>21d7</td>\n",
       "      <td>Epithelial</td>\n",
       "      <td>0</td>\n",
       "      <td>point23</td>\n",
       "    </tr>\n",
       "    <tr>\n",
       "      <th>3036-0</th>\n",
       "      <td>3088</td>\n",
       "      <td>23</td>\n",
       "      <td>4</td>\n",
       "      <td>60318.0</td>\n",
       "      <td>338.0</td>\n",
       "      <td>4.0</td>\n",
       "      <td>304.0</td>\n",
       "      <td>carcinoma</td>\n",
       "      <td>21d7</td>\n",
       "      <td>Imm_other</td>\n",
       "      <td>0</td>\n",
       "      <td>point23</td>\n",
       "    </tr>\n",
       "    <tr>\n",
       "      <th>3037-0</th>\n",
       "      <td>3089</td>\n",
       "      <td>23</td>\n",
       "      <td>6</td>\n",
       "      <td>60320.0</td>\n",
       "      <td>372.0</td>\n",
       "      <td>6.0</td>\n",
       "      <td>219.0</td>\n",
       "      <td>carcinoma</td>\n",
       "      <td>21d7</td>\n",
       "      <td>Myeloid_CD11c</td>\n",
       "      <td>0</td>\n",
       "      <td>point23</td>\n",
       "    </tr>\n",
       "    <tr>\n",
       "      <th>3038-0</th>\n",
       "      <td>3090</td>\n",
       "      <td>23</td>\n",
       "      <td>8</td>\n",
       "      <td>60322.0</td>\n",
       "      <td>417.0</td>\n",
       "      <td>5.0</td>\n",
       "      <td>303.0</td>\n",
       "      <td>carcinoma</td>\n",
       "      <td>21d7</td>\n",
       "      <td>Myeloid_CD11c</td>\n",
       "      <td>0</td>\n",
       "      <td>point23</td>\n",
       "    </tr>\n",
       "    <tr>\n",
       "      <th>...</th>\n",
       "      <td>...</td>\n",
       "      <td>...</td>\n",
       "      <td>...</td>\n",
       "      <td>...</td>\n",
       "      <td>...</td>\n",
       "      <td>...</td>\n",
       "      <td>...</td>\n",
       "      <td>...</td>\n",
       "      <td>...</td>\n",
       "      <td>...</td>\n",
       "      <td>...</td>\n",
       "      <td>...</td>\n",
       "    </tr>\n",
       "    <tr>\n",
       "      <th>47342-2</th>\n",
       "      <td>48953</td>\n",
       "      <td>16</td>\n",
       "      <td>1103</td>\n",
       "      <td>2779.0</td>\n",
       "      <td>143.0</td>\n",
       "      <td>1016.0</td>\n",
       "      <td>283.0</td>\n",
       "      <td>carcinoma</td>\n",
       "      <td>90de</td>\n",
       "      <td>Fibroblast</td>\n",
       "      <td>2</td>\n",
       "      <td>point16</td>\n",
       "    </tr>\n",
       "    <tr>\n",
       "      <th>47343-2</th>\n",
       "      <td>48954</td>\n",
       "      <td>16</td>\n",
       "      <td>1104</td>\n",
       "      <td>2780.0</td>\n",
       "      <td>814.0</td>\n",
       "      <td>1017.0</td>\n",
       "      <td>147.0</td>\n",
       "      <td>carcinoma</td>\n",
       "      <td>90de</td>\n",
       "      <td>Fibroblast</td>\n",
       "      <td>2</td>\n",
       "      <td>point16</td>\n",
       "    </tr>\n",
       "    <tr>\n",
       "      <th>47344-2</th>\n",
       "      <td>48955</td>\n",
       "      <td>16</td>\n",
       "      <td>1105</td>\n",
       "      <td>2781.0</td>\n",
       "      <td>874.0</td>\n",
       "      <td>1018.0</td>\n",
       "      <td>142.0</td>\n",
       "      <td>carcinoma</td>\n",
       "      <td>90de</td>\n",
       "      <td>Imm_other</td>\n",
       "      <td>2</td>\n",
       "      <td>point16</td>\n",
       "    </tr>\n",
       "    <tr>\n",
       "      <th>47345-2</th>\n",
       "      <td>48956</td>\n",
       "      <td>16</td>\n",
       "      <td>1106</td>\n",
       "      <td>2782.0</td>\n",
       "      <td>257.0</td>\n",
       "      <td>1019.0</td>\n",
       "      <td>108.0</td>\n",
       "      <td>carcinoma</td>\n",
       "      <td>90de</td>\n",
       "      <td>Fibroblast</td>\n",
       "      <td>2</td>\n",
       "      <td>point16</td>\n",
       "    </tr>\n",
       "    <tr>\n",
       "      <th>47346-2</th>\n",
       "      <td>48957</td>\n",
       "      <td>16</td>\n",
       "      <td>1107</td>\n",
       "      <td>2783.0</td>\n",
       "      <td>533.0</td>\n",
       "      <td>1019.0</td>\n",
       "      <td>111.0</td>\n",
       "      <td>carcinoma</td>\n",
       "      <td>90de</td>\n",
       "      <td>Fibroblast</td>\n",
       "      <td>2</td>\n",
       "      <td>point16</td>\n",
       "    </tr>\n",
       "  </tbody>\n",
       "</table>\n",
       "<p>3309 rows × 12 columns</p>\n",
       "</div>"
      ],
      "text/plain": [
       "         row_num  point  cell_id       X1  center_rowcoord  center_colcoord  \\\n",
       "3034-0      3086     23        2  60316.0            269.0              7.0   \n",
       "3035-0      3087     23        3  60317.0            294.0              6.0   \n",
       "3036-0      3088     23        4  60318.0            338.0              4.0   \n",
       "3037-0      3089     23        6  60320.0            372.0              6.0   \n",
       "3038-0      3090     23        8  60322.0            417.0              5.0   \n",
       "...          ...    ...      ...      ...              ...              ...   \n",
       "47342-2    48953     16     1103   2779.0            143.0           1016.0   \n",
       "47343-2    48954     16     1104   2780.0            814.0           1017.0   \n",
       "47344-2    48955     16     1105   2781.0            874.0           1018.0   \n",
       "47345-2    48956     16     1106   2782.0            257.0           1019.0   \n",
       "47346-2    48957     16     1107   2783.0            533.0           1019.0   \n",
       "\n",
       "         cell_size   category donor        Cluster batch library_id  \n",
       "3034-0       408.0  carcinoma  21d7     Epithelial     0    point23  \n",
       "3035-0       408.0  carcinoma  21d7     Epithelial     0    point23  \n",
       "3036-0       304.0  carcinoma  21d7      Imm_other     0    point23  \n",
       "3037-0       219.0  carcinoma  21d7  Myeloid_CD11c     0    point23  \n",
       "3038-0       303.0  carcinoma  21d7  Myeloid_CD11c     0    point23  \n",
       "...            ...        ...   ...            ...   ...        ...  \n",
       "47342-2      283.0  carcinoma  90de     Fibroblast     2    point16  \n",
       "47343-2      147.0  carcinoma  90de     Fibroblast     2    point16  \n",
       "47344-2      142.0  carcinoma  90de      Imm_other     2    point16  \n",
       "47345-2      108.0  carcinoma  90de     Fibroblast     2    point16  \n",
       "47346-2      111.0  carcinoma  90de     Fibroblast     2    point16  \n",
       "\n",
       "[3309 rows x 12 columns]"
      ]
     },
     "execution_count": 9,
     "metadata": {},
     "output_type": "execute_result"
    }
   ],
   "source": [
    "adata.obs"
   ]
  },
  {
   "cell_type": "code",
   "execution_count": 15,
   "metadata": {
    "pycharm": {
     "name": "#%%\n"
    }
   },
   "outputs": [
    {
     "ename": "AttributeError",
     "evalue": "'csr_matrix' object has no attribute 'index'",
     "output_type": "error",
     "traceback": [
      "\u001B[0;31m---------------------------------------------------------------------------\u001B[0m",
      "\u001B[0;31mAttributeError\u001B[0m                            Traceback (most recent call last)",
      "Cell \u001B[0;32mIn[15], line 1\u001B[0m\n\u001B[0;32m----> 1\u001B[0m \u001B[43madata\u001B[49m\u001B[38;5;241;43m.\u001B[39;49m\u001B[43mobsp\u001B[49m\u001B[43m[\u001B[49m\u001B[38;5;124;43m'\u001B[39;49m\u001B[38;5;124;43mconnectivities\u001B[39;49m\u001B[38;5;124;43m'\u001B[39;49m\u001B[43m]\u001B[49m\u001B[38;5;241;43m.\u001B[39;49m\u001B[43mindex\u001B[49m\n",
      "\u001B[0;31mAttributeError\u001B[0m: 'csr_matrix' object has no attribute 'index'"
     ]
    }
   ],
   "source": [
    "adata.obsp['connectivities'].index"
   ]
  }
 ],
 "metadata": {
  "kernelspec": {
   "display_name": "shout",
   "language": "python",
   "name": "shout"
  },
  "language_info": {
   "codemirror_mode": {
    "name": "ipython",
    "version": 3
   },
   "file_extension": ".py",
   "mimetype": "text/x-python",
   "name": "python",
   "nbconvert_exporter": "python",
   "pygments_lexer": "ipython3",
   "version": "3.10.13"
  }
 },
 "nbformat": 4,
 "nbformat_minor": 4
}